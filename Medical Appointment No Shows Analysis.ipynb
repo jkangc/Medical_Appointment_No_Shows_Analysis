{
 "cells": [
  {
   "cell_type": "markdown",
   "id": "9364d391",
   "metadata": {},
   "source": [
    "# Medical Appointment No Shows Analysis\n",
    "<a id='Top'></a>"
   ]
  },
  {
   "cell_type": "markdown",
   "id": "e86379da",
   "metadata": {},
   "source": [
    "## Table of Contents\n",
    "* [Introduction](#Introduction)\n",
    "* [Data Dictionary](#Data-Dictionary)\n",
    "* [Research questions](#Research-questions)\n",
    "* [Data Wrangling](#Data-Wrangling)\n",
    "* [Exploration Summery](#Exploration-Summery)\n",
    "* [Data Cleaning](#Data-Cleaning)\n",
    "* [Exploratory Data Analysis](#Exploratory-Data-Analysis)\n",
    "* [Conclusion](#Conclusion)"
   ]
  },
  {
   "cell_type": "markdown",
   "id": "4ea62b5b",
   "metadata": {},
   "source": [
    "## Introduction\n",
    "<a id='Introduction'></a>\n",
    "> A person makes a doctor appointment, receives all the instructions and no-show. Who to blame? This dataset collects information from 100k medical appointments in Brazil and is focused on the question of why 30% of patients miss their scheduled appointment. I am trying to analyse the most important reasons that affect the attendance of the patient."
   ]
  },
  {
   "cell_type": "markdown",
   "id": "46dc95b5",
   "metadata": {},
   "source": [
    "## Data Dictionary\n",
    "<a id='Data Dictionary'></a>\n",
    "1. PatientId: Identification of a patient.\n",
    "2. AppointmentID: Identification of each appointment.\n",
    "3. Gender: Male or Female.\n",
    "4. AppointmentDay: The day of the actuall appointment, when they have to visit the doctor.\n",
    "5. ScheduledDay: The day someone called or registered the appointment, this is before appointment of course.\n",
    "6. Age: How old is the patient.\n",
    "7. Neighbourhood: Where the appointment takes place.\n",
    "8. Scholarship: True of False, indicates whether or not the patient is enrolled in Brasilian welfare program Bolsa Família.\n",
    "9. Hipertension: True or False.\n",
    "10. Diabetes: True or False.\n",
    "11. Alcoholism: True or False.\n",
    "12. Handcap: True or False.\n",
    "13. SMS_received: 1 or more messages sent to the patient.\n",
    "14. No-show: True (if the patient did not show up), or False (if the patient did show up)."
   ]
  },
  {
   "cell_type": "markdown",
   "id": "4c7b7acc",
   "metadata": {},
   "source": [
    "\n",
    "## Research questions:\n",
    "<a id='Research-questions'></a>\n",
    "- Q1: Do a patient's age and gender have a relationship with attendance for their appointment? What are the age groups affected by this?\n",
    "- Q2: Does receiving a message affect the patient's attendance? \n",
    "- Q3: Does the due date affect the patient's attendance?\n",
    "- Q4: Does the scholarship affect the patient's attendance? \n",
    "- Q5: Does having certain diseases affect attendance?\n",
    "- Q6: What day of the week do patients attend and skip the most?"
   ]
  },
  {
   "cell_type": "markdown",
   "id": "bfaf1058",
   "metadata": {},
   "source": [
    "***"
   ]
  },
  {
   "cell_type": "markdown",
   "id": "5ea32048",
   "metadata": {},
   "source": [
    "## Data Wrangling\n",
    "<a id='Data-Wrangling'></a>\n",
    "> In this section, we'd load our data from a CSV file to a pandas dataframe, and then take a quick dive into exploring the dataset and cleaning it for a better analysis."
   ]
  },
  {
   "cell_type": "code",
   "execution_count": 1,
   "id": "0d2f5461",
   "metadata": {},
   "outputs": [],
   "source": [
    "# importing library\n",
    "import numpy as np \n",
    "import pandas as pd \n",
    "import matplotlib.pyplot as plt\n",
    "import seaborn as sns"
   ]
  },
  {
   "cell_type": "code",
   "execution_count": 2,
   "id": "100d4e80",
   "metadata": {
    "scrolled": false
   },
   "outputs": [
    {
     "data": {
      "text/html": [
       "<div>\n",
       "<style scoped>\n",
       "    .dataframe tbody tr th:only-of-type {\n",
       "        vertical-align: middle;\n",
       "    }\n",
       "\n",
       "    .dataframe tbody tr th {\n",
       "        vertical-align: top;\n",
       "    }\n",
       "\n",
       "    .dataframe thead th {\n",
       "        text-align: right;\n",
       "    }\n",
       "</style>\n",
       "<table border=\"1\" class=\"dataframe\">\n",
       "  <thead>\n",
       "    <tr style=\"text-align: right;\">\n",
       "      <th></th>\n",
       "      <th>PatientId</th>\n",
       "      <th>AppointmentID</th>\n",
       "      <th>Gender</th>\n",
       "      <th>ScheduledDay</th>\n",
       "      <th>AppointmentDay</th>\n",
       "      <th>Age</th>\n",
       "      <th>Neighbourhood</th>\n",
       "      <th>Scholarship</th>\n",
       "      <th>Hipertension</th>\n",
       "      <th>Diabetes</th>\n",
       "      <th>Alcoholism</th>\n",
       "      <th>Handcap</th>\n",
       "      <th>SMS_received</th>\n",
       "      <th>No-show</th>\n",
       "    </tr>\n",
       "  </thead>\n",
       "  <tbody>\n",
       "    <tr>\n",
       "      <th>0</th>\n",
       "      <td>2.987250e+13</td>\n",
       "      <td>5642903</td>\n",
       "      <td>F</td>\n",
       "      <td>2016-04-29T18:38:08Z</td>\n",
       "      <td>2016-04-29T00:00:00Z</td>\n",
       "      <td>62</td>\n",
       "      <td>JARDIM DA PENHA</td>\n",
       "      <td>0</td>\n",
       "      <td>1</td>\n",
       "      <td>0</td>\n",
       "      <td>0</td>\n",
       "      <td>0</td>\n",
       "      <td>0</td>\n",
       "      <td>No</td>\n",
       "    </tr>\n",
       "    <tr>\n",
       "      <th>1</th>\n",
       "      <td>5.589978e+14</td>\n",
       "      <td>5642503</td>\n",
       "      <td>M</td>\n",
       "      <td>2016-04-29T16:08:27Z</td>\n",
       "      <td>2016-04-29T00:00:00Z</td>\n",
       "      <td>56</td>\n",
       "      <td>JARDIM DA PENHA</td>\n",
       "      <td>0</td>\n",
       "      <td>0</td>\n",
       "      <td>0</td>\n",
       "      <td>0</td>\n",
       "      <td>0</td>\n",
       "      <td>0</td>\n",
       "      <td>No</td>\n",
       "    </tr>\n",
       "    <tr>\n",
       "      <th>2</th>\n",
       "      <td>4.262962e+12</td>\n",
       "      <td>5642549</td>\n",
       "      <td>F</td>\n",
       "      <td>2016-04-29T16:19:04Z</td>\n",
       "      <td>2016-04-29T00:00:00Z</td>\n",
       "      <td>62</td>\n",
       "      <td>MATA DA PRAIA</td>\n",
       "      <td>0</td>\n",
       "      <td>0</td>\n",
       "      <td>0</td>\n",
       "      <td>0</td>\n",
       "      <td>0</td>\n",
       "      <td>0</td>\n",
       "      <td>No</td>\n",
       "    </tr>\n",
       "    <tr>\n",
       "      <th>3</th>\n",
       "      <td>8.679512e+11</td>\n",
       "      <td>5642828</td>\n",
       "      <td>F</td>\n",
       "      <td>2016-04-29T17:29:31Z</td>\n",
       "      <td>2016-04-29T00:00:00Z</td>\n",
       "      <td>8</td>\n",
       "      <td>PONTAL DE CAMBURI</td>\n",
       "      <td>0</td>\n",
       "      <td>0</td>\n",
       "      <td>0</td>\n",
       "      <td>0</td>\n",
       "      <td>0</td>\n",
       "      <td>0</td>\n",
       "      <td>No</td>\n",
       "    </tr>\n",
       "    <tr>\n",
       "      <th>4</th>\n",
       "      <td>8.841186e+12</td>\n",
       "      <td>5642494</td>\n",
       "      <td>F</td>\n",
       "      <td>2016-04-29T16:07:23Z</td>\n",
       "      <td>2016-04-29T00:00:00Z</td>\n",
       "      <td>56</td>\n",
       "      <td>JARDIM DA PENHA</td>\n",
       "      <td>0</td>\n",
       "      <td>1</td>\n",
       "      <td>1</td>\n",
       "      <td>0</td>\n",
       "      <td>0</td>\n",
       "      <td>0</td>\n",
       "      <td>No</td>\n",
       "    </tr>\n",
       "  </tbody>\n",
       "</table>\n",
       "</div>"
      ],
      "text/plain": [
       "      PatientId  AppointmentID Gender          ScheduledDay  \\\n",
       "0  2.987250e+13        5642903      F  2016-04-29T18:38:08Z   \n",
       "1  5.589978e+14        5642503      M  2016-04-29T16:08:27Z   \n",
       "2  4.262962e+12        5642549      F  2016-04-29T16:19:04Z   \n",
       "3  8.679512e+11        5642828      F  2016-04-29T17:29:31Z   \n",
       "4  8.841186e+12        5642494      F  2016-04-29T16:07:23Z   \n",
       "\n",
       "         AppointmentDay  Age      Neighbourhood  Scholarship  Hipertension  \\\n",
       "0  2016-04-29T00:00:00Z   62    JARDIM DA PENHA            0             1   \n",
       "1  2016-04-29T00:00:00Z   56    JARDIM DA PENHA            0             0   \n",
       "2  2016-04-29T00:00:00Z   62      MATA DA PRAIA            0             0   \n",
       "3  2016-04-29T00:00:00Z    8  PONTAL DE CAMBURI            0             0   \n",
       "4  2016-04-29T00:00:00Z   56    JARDIM DA PENHA            0             1   \n",
       "\n",
       "   Diabetes  Alcoholism  Handcap  SMS_received No-show  \n",
       "0         0           0        0             0      No  \n",
       "1         0           0        0             0      No  \n",
       "2         0           0        0             0      No  \n",
       "3         0           0        0             0      No  \n",
       "4         1           0        0             0      No  "
      ]
     },
     "execution_count": 2,
     "metadata": {},
     "output_type": "execute_result"
    }
   ],
   "source": [
    "# Loading the csv file\n",
    "df = pd.read_csv('KaggleV2-May-2016.csv')\n",
    "df.head()"
   ]
  },
  {
   "cell_type": "markdown",
   "id": "0bdb5584",
   "metadata": {},
   "source": [
    "> Next, explore the dataset by checking data types, NaNs or duplicated rows, and any columns that may need to be dropped or parsed."
   ]
  },
  {
   "cell_type": "code",
   "execution_count": 3,
   "id": "29f98e5f",
   "metadata": {
    "scrolled": true
   },
   "outputs": [
    {
     "name": "stdout",
     "output_type": "stream",
     "text": [
      "<class 'pandas.core.frame.DataFrame'>\n",
      "RangeIndex: 110527 entries, 0 to 110526\n",
      "Data columns (total 14 columns):\n",
      " #   Column          Non-Null Count   Dtype  \n",
      "---  ------          --------------   -----  \n",
      " 0   PatientId       110527 non-null  float64\n",
      " 1   AppointmentID   110527 non-null  int64  \n",
      " 2   Gender          110527 non-null  object \n",
      " 3   ScheduledDay    110527 non-null  object \n",
      " 4   AppointmentDay  110527 non-null  object \n",
      " 5   Age             110527 non-null  int64  \n",
      " 6   Neighbourhood   110527 non-null  object \n",
      " 7   Scholarship     110527 non-null  int64  \n",
      " 8   Hipertension    110527 non-null  int64  \n",
      " 9   Diabetes        110527 non-null  int64  \n",
      " 10  Alcoholism      110527 non-null  int64  \n",
      " 11  Handcap         110527 non-null  int64  \n",
      " 12  SMS_received    110527 non-null  int64  \n",
      " 13  No-show         110527 non-null  object \n",
      "dtypes: float64(1), int64(8), object(5)\n",
      "memory usage: 11.8+ MB\n"
     ]
    }
   ],
   "source": [
    "# review main info\n",
    "df.info()"
   ]
  },
  {
   "cell_type": "markdown",
   "id": "98411c17",
   "metadata": {},
   "source": [
    "<div class=\"alert alert-block alert-warning\">\n",
    "<b>Observation:</b><br>     \n",
    "<blockquote>  \n",
    "1. There are no NaNs at all in our data.<br>    \n",
    "2. We can drop PatientId and AppointmentId columns since they wouldn't be helpful during analysis.<br>    \n",
    "3. ScheduledDay and AppointmentDay needs to be cast to date data type.<br>    \n",
    "4. Gender needs to be converted into a category type.<br>    \n",
    "5. Scholarship Hipertension Diabetes Alcoholism Handcap better to be boolean data type.<br>    \n",
    "6. No-show needs to be parsed and cast to be boolean as well.<br></blockquote>    \n",
    "</div>"
   ]
  },
  {
   "cell_type": "code",
   "execution_count": 4,
   "id": "c84fc577",
   "metadata": {},
   "outputs": [
    {
     "data": {
      "text/plain": [
       "0"
      ]
     },
     "execution_count": 4,
     "metadata": {},
     "output_type": "execute_result"
    }
   ],
   "source": [
    "# checking for duplicates\n",
    "df.duplicated().sum()"
   ]
  },
  {
   "cell_type": "code",
   "execution_count": 5,
   "id": "a0fac361",
   "metadata": {
    "scrolled": false
   },
   "outputs": [
    {
     "data": {
      "text/plain": [
       "PatientId         0\n",
       "AppointmentID     0\n",
       "Gender            0\n",
       "ScheduledDay      0\n",
       "AppointmentDay    0\n",
       "Age               0\n",
       "Neighbourhood     0\n",
       "Scholarship       0\n",
       "Hipertension      0\n",
       "Diabetes          0\n",
       "Alcoholism        0\n",
       "Handcap           0\n",
       "SMS_received      0\n",
       "No-show           0\n",
       "dtype: int64"
      ]
     },
     "execution_count": 5,
     "metadata": {},
     "output_type": "execute_result"
    }
   ],
   "source": [
    "# checking for null value\n",
    "df.isnull().sum()   "
   ]
  },
  {
   "cell_type": "code",
   "execution_count": 6,
   "id": "a970a7d4",
   "metadata": {},
   "outputs": [
    {
     "data": {
      "text/plain": [
       "(110527, 14)"
      ]
     },
     "execution_count": 6,
     "metadata": {},
     "output_type": "execute_result"
    }
   ],
   "source": [
    "# figuring out how big the dataset is\n",
    "df.shape"
   ]
  },
  {
   "cell_type": "markdown",
   "id": "b664c418",
   "metadata": {},
   "source": [
    "<div class=\"alert alert-block alert-success\">\n",
    "<b>Found:</b></br>\n",
    "<blockquote>the dataset has no no missing or duplicated data</blockquote>\n",
    "</div>"
   ]
  },
  {
   "cell_type": "code",
   "execution_count": 7,
   "id": "8e0d14d2",
   "metadata": {
    "scrolled": false
   },
   "outputs": [
    {
     "data": {
      "text/plain": [
       "PatientId          62299\n",
       "AppointmentID     110527\n",
       "Gender                 2\n",
       "ScheduledDay      103549\n",
       "AppointmentDay        27\n",
       "Age                  104\n",
       "Neighbourhood         81\n",
       "Scholarship            2\n",
       "Hipertension           2\n",
       "Diabetes               2\n",
       "Alcoholism             2\n",
       "Handcap                5\n",
       "SMS_received           2\n",
       "No-show                2\n",
       "dtype: int64"
      ]
     },
     "execution_count": 7,
     "metadata": {},
     "output_type": "execute_result"
    }
   ],
   "source": [
    "# exploring the unique values of each column\n",
    "df.nunique()"
   ]
  },
  {
   "cell_type": "code",
   "execution_count": 8,
   "id": "ac8b001e",
   "metadata": {
    "scrolled": true
   },
   "outputs": [
    {
     "data": {
      "text/html": [
       "<div>\n",
       "<style scoped>\n",
       "    .dataframe tbody tr th:only-of-type {\n",
       "        vertical-align: middle;\n",
       "    }\n",
       "\n",
       "    .dataframe tbody tr th {\n",
       "        vertical-align: top;\n",
       "    }\n",
       "\n",
       "    .dataframe thead th {\n",
       "        text-align: right;\n",
       "    }\n",
       "</style>\n",
       "<table border=\"1\" class=\"dataframe\">\n",
       "  <thead>\n",
       "    <tr style=\"text-align: right;\">\n",
       "      <th></th>\n",
       "      <th>PatientId</th>\n",
       "      <th>AppointmentID</th>\n",
       "      <th>Age</th>\n",
       "      <th>Scholarship</th>\n",
       "      <th>Hipertension</th>\n",
       "      <th>Diabetes</th>\n",
       "      <th>Alcoholism</th>\n",
       "      <th>Handcap</th>\n",
       "      <th>SMS_received</th>\n",
       "    </tr>\n",
       "  </thead>\n",
       "  <tbody>\n",
       "    <tr>\n",
       "      <th>count</th>\n",
       "      <td>1.105270e+05</td>\n",
       "      <td>1.105270e+05</td>\n",
       "      <td>110527.000000</td>\n",
       "      <td>110527.000000</td>\n",
       "      <td>110527.000000</td>\n",
       "      <td>110527.000000</td>\n",
       "      <td>110527.000000</td>\n",
       "      <td>110527.000000</td>\n",
       "      <td>110527.000000</td>\n",
       "    </tr>\n",
       "    <tr>\n",
       "      <th>mean</th>\n",
       "      <td>1.474963e+14</td>\n",
       "      <td>5.675305e+06</td>\n",
       "      <td>37.088874</td>\n",
       "      <td>0.098266</td>\n",
       "      <td>0.197246</td>\n",
       "      <td>0.071865</td>\n",
       "      <td>0.030400</td>\n",
       "      <td>0.022248</td>\n",
       "      <td>0.321026</td>\n",
       "    </tr>\n",
       "    <tr>\n",
       "      <th>std</th>\n",
       "      <td>2.560949e+14</td>\n",
       "      <td>7.129575e+04</td>\n",
       "      <td>23.110205</td>\n",
       "      <td>0.297675</td>\n",
       "      <td>0.397921</td>\n",
       "      <td>0.258265</td>\n",
       "      <td>0.171686</td>\n",
       "      <td>0.161543</td>\n",
       "      <td>0.466873</td>\n",
       "    </tr>\n",
       "    <tr>\n",
       "      <th>min</th>\n",
       "      <td>3.921784e+04</td>\n",
       "      <td>5.030230e+06</td>\n",
       "      <td>-1.000000</td>\n",
       "      <td>0.000000</td>\n",
       "      <td>0.000000</td>\n",
       "      <td>0.000000</td>\n",
       "      <td>0.000000</td>\n",
       "      <td>0.000000</td>\n",
       "      <td>0.000000</td>\n",
       "    </tr>\n",
       "    <tr>\n",
       "      <th>25%</th>\n",
       "      <td>4.172614e+12</td>\n",
       "      <td>5.640286e+06</td>\n",
       "      <td>18.000000</td>\n",
       "      <td>0.000000</td>\n",
       "      <td>0.000000</td>\n",
       "      <td>0.000000</td>\n",
       "      <td>0.000000</td>\n",
       "      <td>0.000000</td>\n",
       "      <td>0.000000</td>\n",
       "    </tr>\n",
       "    <tr>\n",
       "      <th>50%</th>\n",
       "      <td>3.173184e+13</td>\n",
       "      <td>5.680573e+06</td>\n",
       "      <td>37.000000</td>\n",
       "      <td>0.000000</td>\n",
       "      <td>0.000000</td>\n",
       "      <td>0.000000</td>\n",
       "      <td>0.000000</td>\n",
       "      <td>0.000000</td>\n",
       "      <td>0.000000</td>\n",
       "    </tr>\n",
       "    <tr>\n",
       "      <th>75%</th>\n",
       "      <td>9.439172e+13</td>\n",
       "      <td>5.725524e+06</td>\n",
       "      <td>55.000000</td>\n",
       "      <td>0.000000</td>\n",
       "      <td>0.000000</td>\n",
       "      <td>0.000000</td>\n",
       "      <td>0.000000</td>\n",
       "      <td>0.000000</td>\n",
       "      <td>1.000000</td>\n",
       "    </tr>\n",
       "    <tr>\n",
       "      <th>max</th>\n",
       "      <td>9.999816e+14</td>\n",
       "      <td>5.790484e+06</td>\n",
       "      <td>115.000000</td>\n",
       "      <td>1.000000</td>\n",
       "      <td>1.000000</td>\n",
       "      <td>1.000000</td>\n",
       "      <td>1.000000</td>\n",
       "      <td>4.000000</td>\n",
       "      <td>1.000000</td>\n",
       "    </tr>\n",
       "  </tbody>\n",
       "</table>\n",
       "</div>"
      ],
      "text/plain": [
       "          PatientId  AppointmentID            Age    Scholarship  \\\n",
       "count  1.105270e+05   1.105270e+05  110527.000000  110527.000000   \n",
       "mean   1.474963e+14   5.675305e+06      37.088874       0.098266   \n",
       "std    2.560949e+14   7.129575e+04      23.110205       0.297675   \n",
       "min    3.921784e+04   5.030230e+06      -1.000000       0.000000   \n",
       "25%    4.172614e+12   5.640286e+06      18.000000       0.000000   \n",
       "50%    3.173184e+13   5.680573e+06      37.000000       0.000000   \n",
       "75%    9.439172e+13   5.725524e+06      55.000000       0.000000   \n",
       "max    9.999816e+14   5.790484e+06     115.000000       1.000000   \n",
       "\n",
       "        Hipertension       Diabetes     Alcoholism        Handcap  \\\n",
       "count  110527.000000  110527.000000  110527.000000  110527.000000   \n",
       "mean        0.197246       0.071865       0.030400       0.022248   \n",
       "std         0.397921       0.258265       0.171686       0.161543   \n",
       "min         0.000000       0.000000       0.000000       0.000000   \n",
       "25%         0.000000       0.000000       0.000000       0.000000   \n",
       "50%         0.000000       0.000000       0.000000       0.000000   \n",
       "75%         0.000000       0.000000       0.000000       0.000000   \n",
       "max         1.000000       1.000000       1.000000       4.000000   \n",
       "\n",
       "        SMS_received  \n",
       "count  110527.000000  \n",
       "mean        0.321026  \n",
       "std         0.466873  \n",
       "min         0.000000  \n",
       "25%         0.000000  \n",
       "50%         0.000000  \n",
       "75%         1.000000  \n",
       "max         1.000000  "
      ]
     },
     "execution_count": 8,
     "metadata": {},
     "output_type": "execute_result"
    }
   ],
   "source": [
    "# overveiw of statistics of the data\n",
    "df.describe()"
   ]
  },
  {
   "cell_type": "markdown",
   "id": "a70a7f26",
   "metadata": {},
   "source": [
    "<div class = \"alert alert-block alert-danger\">\n",
    "<b>Found:</b><br>\n",
    "<blockquote>Handcap and Age columns has inconsistant unique values.<br>\n",
    "SMS_received would be casted to boolean data type.</blockquote>\n",
    "</di> "
   ]
  },
  {
   "cell_type": "code",
   "execution_count": 9,
   "id": "32b1a03f",
   "metadata": {},
   "outputs": [
    {
     "data": {
      "text/plain": [
       "0    108286\n",
       "1      2042\n",
       "2       183\n",
       "3        13\n",
       "4         3\n",
       "Name: Handcap, dtype: int64"
      ]
     },
     "execution_count": 9,
     "metadata": {},
     "output_type": "execute_result"
    }
   ],
   "source": [
    "# exploring handcap values\n",
    "df['Handcap'].value_counts()"
   ]
  },
  {
   "cell_type": "markdown",
   "id": "88076b78",
   "metadata": {},
   "source": [
    "<div class=\"alert alert-block alert-danger\">\n",
    "<b>Found:</b><br>\n",
    "<blockquote>We'd be only intrested in rows with 0 or 1 values.</blockquote>\n",
    "</div>"
   ]
  },
  {
   "cell_type": "code",
   "execution_count": 10,
   "id": "8aea0f31",
   "metadata": {},
   "outputs": [
    {
     "data": {
      "text/plain": [
       "count    110527.000000\n",
       "mean         37.088874\n",
       "std          23.110205\n",
       "min          -1.000000\n",
       "25%          18.000000\n",
       "50%          37.000000\n",
       "75%          55.000000\n",
       "max         115.000000\n",
       "Name: Age, dtype: float64"
      ]
     },
     "execution_count": 10,
     "metadata": {},
     "output_type": "execute_result"
    }
   ],
   "source": [
    "# exploring age column distribution\n",
    "df['Age'].describe()"
   ]
  },
  {
   "cell_type": "markdown",
   "id": "11a4e443",
   "metadata": {},
   "source": [
    "<div class = \"alert alert-block alert-danger\">\n",
    "<b>Found:</b><br>\n",
    "<blockquote>Age column would need to be handled since it has a negative value.</blockquote>\n",
    "</di> "
   ]
  },
  {
   "cell_type": "markdown",
   "id": "58501b37",
   "metadata": {},
   "source": [
    "## Exploration Summery¶\n",
    "<a id='Exploration-Summery'></a>\n",
    "1. There are 110527 rows with 14 columns, and has no NaNs nor duplicated values in the dataset.\n",
    "2. We can ignore or drop the PatientId and AppointmentId columns since wouldn't be helpful during analysis.\n",
    "3. ScheduledDay and AppointmentDay needs to be cast to date data type.\n",
    "4. Gender needs to be cast into a category type\n",
    "5. Scholarship, Hipertension, Diabetes, Alcoholism, and SMS_recieved better be a boolean data type.\n",
    "6. No-show column needs to be parsed and cast to boolean type.\n",
    "7. Handcap column needs to be cleaned to have only 0 and 1 values.\n",
    "8. Age column has inconsistent unique values that need to be handled."
   ]
  },
  {
   "cell_type": "markdown",
   "id": "b63b5df6",
   "metadata": {},
   "source": [
    "***"
   ]
  },
  {
   "cell_type": "markdown",
   "id": "9c618ffb",
   "metadata": {},
   "source": [
    "## Data Cleaning\n",
    "<a id='Data-Cleaning'></a>\n",
    "> In this section, based on the previous findings to make analysis more accurate and clear."
   ]
  },
  {
   "cell_type": "markdown",
   "id": "0bf8eebe",
   "metadata": {},
   "source": [
    "<div class=\"alert alert-block alert-info\">\n",
    "<b>To-do:</b></br> \n",
    "<blockquote>Clean names of the columns and drop unnecessary columns</blockquote>\n",
    "</div>"
   ]
  },
  {
   "cell_type": "code",
   "execution_count": 11,
   "id": "20475f77",
   "metadata": {},
   "outputs": [
    {
     "data": {
      "text/plain": [
       "Index(['PatientId', 'AppointmentID', 'Gender', 'ScheduledDay',\n",
       "       'AppointmentDay', 'Age', 'Neighbourhood', 'Bolsa', 'Hypertension',\n",
       "       'Diabetes', 'Alcoholism', 'Handicap', 'SMS', 'Absent'],\n",
       "      dtype='object')"
      ]
     },
     "execution_count": 11,
     "metadata": {},
     "output_type": "execute_result"
    }
   ],
   "source": [
    "# Rename the error \"Hipertension\" to 'Hypertension'\n",
    "df = df.rename(columns = {'Hipertension' : 'Hypertension'})\n",
    "\n",
    "# Rename the error 'Handcap' to 'Handicap'\n",
    "df = df.rename(columns = {'Handcap' : 'Handicap'})\n",
    "\n",
    "# Rename the confusing 'No-show' to 'Absent'\n",
    "df = df.rename(columns = {'No-show' : 'Absent'})\n",
    "\n",
    "# Simplify 'SMS_received' to 'SMS'\n",
    "df = df.rename(columns = {'SMS_received' : 'SMS'})\n",
    "\n",
    "# Simplify 'Scholarship' to 'Bolsa'\n",
    "df = df.rename(columns = {'Scholarship' : 'Bolsa'})\n",
    "\n",
    "# dropping columns and validating changes\n",
    "# df.drop(['PatientId', 'AppointmentID'], axis = 1, inplace = True)\n",
    "df.columns"
   ]
  },
  {
   "cell_type": "markdown",
   "id": "8949d9e1",
   "metadata": {},
   "source": [
    "<div class=\"alert alert-block alert-info\">\n",
    "<b>To-do:</b></br> \n",
    "<blockquote>Handling date data type.</blockquote>\n",
    "</div>"
   ]
  },
  {
   "cell_type": "code",
   "execution_count": 12,
   "id": "dbf10bec",
   "metadata": {
    "scrolled": false
   },
   "outputs": [
    {
     "data": {
      "text/plain": [
       "<bound method Series.unique of 0         2016-04-29T00:00:00Z\n",
       "1         2016-04-29T00:00:00Z\n",
       "2         2016-04-29T00:00:00Z\n",
       "3         2016-04-29T00:00:00Z\n",
       "4         2016-04-29T00:00:00Z\n",
       "                  ...         \n",
       "110522    2016-06-07T00:00:00Z\n",
       "110523    2016-06-07T00:00:00Z\n",
       "110524    2016-06-07T00:00:00Z\n",
       "110525    2016-06-07T00:00:00Z\n",
       "110526    2016-06-07T00:00:00Z\n",
       "Name: AppointmentDay, Length: 110527, dtype: object>"
      ]
     },
     "execution_count": 12,
     "metadata": {},
     "output_type": "execute_result"
    }
   ],
   "source": [
    "df.AppointmentDay.unique"
   ]
  },
  {
   "cell_type": "markdown",
   "id": "4240f2df",
   "metadata": {},
   "source": [
    "<div class=\"alert alert-block alert-info\">\n",
    "<b>To-do:</b></br> \n",
    "<blockquote>All hours are set to 00:00:00, so let's extract only the year, month, and day data.</blockquote>\n",
    "</div>"
   ]
  },
  {
   "cell_type": "code",
   "execution_count": 13,
   "id": "703225cc",
   "metadata": {
    "scrolled": false
   },
   "outputs": [
    {
     "name": "stdout",
     "output_type": "stream",
     "text": [
      "AppointmentDay    datetime64[ns]\n",
      "ScheduledDay      datetime64[ns]\n",
      "dtype: object\n"
     ]
    },
    {
     "data": {
      "text/html": [
       "<div>\n",
       "<style scoped>\n",
       "    .dataframe tbody tr th:only-of-type {\n",
       "        vertical-align: middle;\n",
       "    }\n",
       "\n",
       "    .dataframe tbody tr th {\n",
       "        vertical-align: top;\n",
       "    }\n",
       "\n",
       "    .dataframe thead th {\n",
       "        text-align: right;\n",
       "    }\n",
       "</style>\n",
       "<table border=\"1\" class=\"dataframe\">\n",
       "  <thead>\n",
       "    <tr style=\"text-align: right;\">\n",
       "      <th></th>\n",
       "      <th>PatientId</th>\n",
       "      <th>AppointmentID</th>\n",
       "      <th>Gender</th>\n",
       "      <th>ScheduledDay</th>\n",
       "      <th>AppointmentDay</th>\n",
       "      <th>Age</th>\n",
       "      <th>Neighbourhood</th>\n",
       "      <th>Bolsa</th>\n",
       "      <th>Hypertension</th>\n",
       "      <th>Diabetes</th>\n",
       "      <th>Alcoholism</th>\n",
       "      <th>Handicap</th>\n",
       "      <th>SMS</th>\n",
       "      <th>Absent</th>\n",
       "    </tr>\n",
       "  </thead>\n",
       "  <tbody>\n",
       "    <tr>\n",
       "      <th>0</th>\n",
       "      <td>2.987250e+13</td>\n",
       "      <td>5642903</td>\n",
       "      <td>F</td>\n",
       "      <td>2016-04-29</td>\n",
       "      <td>2016-04-29</td>\n",
       "      <td>62</td>\n",
       "      <td>JARDIM DA PENHA</td>\n",
       "      <td>0</td>\n",
       "      <td>1</td>\n",
       "      <td>0</td>\n",
       "      <td>0</td>\n",
       "      <td>0</td>\n",
       "      <td>0</td>\n",
       "      <td>No</td>\n",
       "    </tr>\n",
       "    <tr>\n",
       "      <th>1</th>\n",
       "      <td>5.589978e+14</td>\n",
       "      <td>5642503</td>\n",
       "      <td>M</td>\n",
       "      <td>2016-04-29</td>\n",
       "      <td>2016-04-29</td>\n",
       "      <td>56</td>\n",
       "      <td>JARDIM DA PENHA</td>\n",
       "      <td>0</td>\n",
       "      <td>0</td>\n",
       "      <td>0</td>\n",
       "      <td>0</td>\n",
       "      <td>0</td>\n",
       "      <td>0</td>\n",
       "      <td>No</td>\n",
       "    </tr>\n",
       "    <tr>\n",
       "      <th>2</th>\n",
       "      <td>4.262962e+12</td>\n",
       "      <td>5642549</td>\n",
       "      <td>F</td>\n",
       "      <td>2016-04-29</td>\n",
       "      <td>2016-04-29</td>\n",
       "      <td>62</td>\n",
       "      <td>MATA DA PRAIA</td>\n",
       "      <td>0</td>\n",
       "      <td>0</td>\n",
       "      <td>0</td>\n",
       "      <td>0</td>\n",
       "      <td>0</td>\n",
       "      <td>0</td>\n",
       "      <td>No</td>\n",
       "    </tr>\n",
       "    <tr>\n",
       "      <th>3</th>\n",
       "      <td>8.679512e+11</td>\n",
       "      <td>5642828</td>\n",
       "      <td>F</td>\n",
       "      <td>2016-04-29</td>\n",
       "      <td>2016-04-29</td>\n",
       "      <td>8</td>\n",
       "      <td>PONTAL DE CAMBURI</td>\n",
       "      <td>0</td>\n",
       "      <td>0</td>\n",
       "      <td>0</td>\n",
       "      <td>0</td>\n",
       "      <td>0</td>\n",
       "      <td>0</td>\n",
       "      <td>No</td>\n",
       "    </tr>\n",
       "    <tr>\n",
       "      <th>4</th>\n",
       "      <td>8.841186e+12</td>\n",
       "      <td>5642494</td>\n",
       "      <td>F</td>\n",
       "      <td>2016-04-29</td>\n",
       "      <td>2016-04-29</td>\n",
       "      <td>56</td>\n",
       "      <td>JARDIM DA PENHA</td>\n",
       "      <td>0</td>\n",
       "      <td>1</td>\n",
       "      <td>1</td>\n",
       "      <td>0</td>\n",
       "      <td>0</td>\n",
       "      <td>0</td>\n",
       "      <td>No</td>\n",
       "    </tr>\n",
       "  </tbody>\n",
       "</table>\n",
       "</div>"
      ],
      "text/plain": [
       "      PatientId  AppointmentID Gender ScheduledDay AppointmentDay  Age  \\\n",
       "0  2.987250e+13        5642903      F   2016-04-29     2016-04-29   62   \n",
       "1  5.589978e+14        5642503      M   2016-04-29     2016-04-29   56   \n",
       "2  4.262962e+12        5642549      F   2016-04-29     2016-04-29   62   \n",
       "3  8.679512e+11        5642828      F   2016-04-29     2016-04-29    8   \n",
       "4  8.841186e+12        5642494      F   2016-04-29     2016-04-29   56   \n",
       "\n",
       "       Neighbourhood  Bolsa  Hypertension  Diabetes  Alcoholism  Handicap  \\\n",
       "0    JARDIM DA PENHA      0             1         0           0         0   \n",
       "1    JARDIM DA PENHA      0             0         0           0         0   \n",
       "2      MATA DA PRAIA      0             0         0           0         0   \n",
       "3  PONTAL DE CAMBURI      0             0         0           0         0   \n",
       "4    JARDIM DA PENHA      0             1         1           0         0   \n",
       "\n",
       "   SMS Absent  \n",
       "0    0     No  \n",
       "1    0     No  \n",
       "2    0     No  \n",
       "3    0     No  \n",
       "4    0     No  "
      ]
     },
     "execution_count": 13,
     "metadata": {},
     "output_type": "execute_result"
    }
   ],
   "source": [
    "# extracting only day, month and year values\n",
    "df['ScheduledDay'] = df['ScheduledDay'].str[:10]\n",
    "df['AppointmentDay'] = df['AppointmentDay'].str[:10]\n",
    "\n",
    "# changing data type\n",
    "df['ScheduledDay'] = pd.to_datetime(df['ScheduledDay'])\n",
    "df['AppointmentDay'] = pd.to_datetime(df['AppointmentDay'])\n",
    "\n",
    "# confirming changes\n",
    "print(df[['AppointmentDay', 'ScheduledDay']].dtypes)\n",
    "df.head()"
   ]
  },
  {
   "cell_type": "markdown",
   "id": "3b999444",
   "metadata": {},
   "source": [
    "<div class=\"alert alert-block alert-info\">\n",
    "<b>To-do:</b></br> \n",
    "<blockquote>Now, we'd move into appending a new column that holds appointment lead time.</blockquote>\n",
    "</div>"
   ]
  },
  {
   "cell_type": "code",
   "execution_count": 14,
   "id": "2d57b7ab",
   "metadata": {},
   "outputs": [],
   "source": [
    "# making new due days column\n",
    "df['Due_days'] = df['AppointmentDay'] - df['ScheduledDay']\n",
    "\n",
    "# converting data type \n",
    "df['Due_days'] = df['Due_days'].dt.days\n",
    "\n",
    "# drop AppointmentDay col\n",
    "df.drop(['ScheduledDay'], axis = 1, inplace = True)"
   ]
  },
  {
   "cell_type": "markdown",
   "id": "0e8f7a96",
   "metadata": {},
   "source": [
    "<div class=\"alert alert-block alert-info\">\n",
    "<b>To-do:</b></br> \n",
    "<blockquote>We'll move into exploring this new column.</blockquote>\n",
    "</div>"
   ]
  },
  {
   "cell_type": "code",
   "execution_count": 15,
   "id": "3f4d412e",
   "metadata": {},
   "outputs": [
    {
     "data": {
      "text/plain": [
       "count    110527.000000\n",
       "mean         10.183702\n",
       "std          15.254996\n",
       "min          -6.000000\n",
       "25%           0.000000\n",
       "50%           4.000000\n",
       "75%          15.000000\n",
       "max         179.000000\n",
       "Name: Due_days, dtype: float64"
      ]
     },
     "execution_count": 15,
     "metadata": {},
     "output_type": "execute_result"
    }
   ],
   "source": [
    "# viewing summery statistics\n",
    "df['Due_days'].describe()"
   ]
  },
  {
   "cell_type": "markdown",
   "id": "6af35d2b",
   "metadata": {},
   "source": [
    "<div class=\"alert alert-block alert-danger\">\n",
    "<b>Found:</b></br> \n",
    "<blockquote> We seem to have some negative values here, we'll drop them.</blockquote>\n",
    "</div>"
   ]
  },
  {
   "cell_type": "code",
   "execution_count": 16,
   "id": "369cb59d",
   "metadata": {},
   "outputs": [
    {
     "data": {
      "text/html": [
       "<div>\n",
       "<style scoped>\n",
       "    .dataframe tbody tr th:only-of-type {\n",
       "        vertical-align: middle;\n",
       "    }\n",
       "\n",
       "    .dataframe tbody tr th {\n",
       "        vertical-align: top;\n",
       "    }\n",
       "\n",
       "    .dataframe thead th {\n",
       "        text-align: right;\n",
       "    }\n",
       "</style>\n",
       "<table border=\"1\" class=\"dataframe\">\n",
       "  <thead>\n",
       "    <tr style=\"text-align: right;\">\n",
       "      <th></th>\n",
       "      <th>PatientId</th>\n",
       "      <th>AppointmentID</th>\n",
       "      <th>Gender</th>\n",
       "      <th>AppointmentDay</th>\n",
       "      <th>Age</th>\n",
       "      <th>Neighbourhood</th>\n",
       "      <th>Bolsa</th>\n",
       "      <th>Hypertension</th>\n",
       "      <th>Diabetes</th>\n",
       "      <th>Alcoholism</th>\n",
       "      <th>Handicap</th>\n",
       "      <th>SMS</th>\n",
       "      <th>Absent</th>\n",
       "      <th>Due_days</th>\n",
       "    </tr>\n",
       "  </thead>\n",
       "  <tbody>\n",
       "    <tr>\n",
       "      <th>27033</th>\n",
       "      <td>7.839273e+12</td>\n",
       "      <td>5679978</td>\n",
       "      <td>M</td>\n",
       "      <td>2016-05-09</td>\n",
       "      <td>38</td>\n",
       "      <td>RESISTÊNCIA</td>\n",
       "      <td>0</td>\n",
       "      <td>0</td>\n",
       "      <td>0</td>\n",
       "      <td>0</td>\n",
       "      <td>1</td>\n",
       "      <td>0</td>\n",
       "      <td>Yes</td>\n",
       "      <td>-1</td>\n",
       "    </tr>\n",
       "    <tr>\n",
       "      <th>55226</th>\n",
       "      <td>7.896294e+12</td>\n",
       "      <td>5715660</td>\n",
       "      <td>F</td>\n",
       "      <td>2016-05-17</td>\n",
       "      <td>19</td>\n",
       "      <td>SANTO ANTÔNIO</td>\n",
       "      <td>0</td>\n",
       "      <td>0</td>\n",
       "      <td>0</td>\n",
       "      <td>0</td>\n",
       "      <td>1</td>\n",
       "      <td>0</td>\n",
       "      <td>Yes</td>\n",
       "      <td>-1</td>\n",
       "    </tr>\n",
       "    <tr>\n",
       "      <th>64175</th>\n",
       "      <td>2.425226e+13</td>\n",
       "      <td>5664962</td>\n",
       "      <td>F</td>\n",
       "      <td>2016-05-04</td>\n",
       "      <td>22</td>\n",
       "      <td>CONSOLAÇÃO</td>\n",
       "      <td>0</td>\n",
       "      <td>0</td>\n",
       "      <td>0</td>\n",
       "      <td>0</td>\n",
       "      <td>0</td>\n",
       "      <td>0</td>\n",
       "      <td>Yes</td>\n",
       "      <td>-1</td>\n",
       "    </tr>\n",
       "    <tr>\n",
       "      <th>71533</th>\n",
       "      <td>9.982316e+14</td>\n",
       "      <td>5686628</td>\n",
       "      <td>F</td>\n",
       "      <td>2016-05-05</td>\n",
       "      <td>81</td>\n",
       "      <td>SANTO ANTÔNIO</td>\n",
       "      <td>0</td>\n",
       "      <td>0</td>\n",
       "      <td>0</td>\n",
       "      <td>0</td>\n",
       "      <td>0</td>\n",
       "      <td>0</td>\n",
       "      <td>Yes</td>\n",
       "      <td>-6</td>\n",
       "    </tr>\n",
       "    <tr>\n",
       "      <th>72362</th>\n",
       "      <td>3.787482e+12</td>\n",
       "      <td>5655637</td>\n",
       "      <td>M</td>\n",
       "      <td>2016-05-03</td>\n",
       "      <td>7</td>\n",
       "      <td>TABUAZEIRO</td>\n",
       "      <td>0</td>\n",
       "      <td>0</td>\n",
       "      <td>0</td>\n",
       "      <td>0</td>\n",
       "      <td>0</td>\n",
       "      <td>0</td>\n",
       "      <td>Yes</td>\n",
       "      <td>-1</td>\n",
       "    </tr>\n",
       "  </tbody>\n",
       "</table>\n",
       "</div>"
      ],
      "text/plain": [
       "          PatientId  AppointmentID Gender AppointmentDay  Age  Neighbourhood  \\\n",
       "27033  7.839273e+12        5679978      M     2016-05-09   38    RESISTÊNCIA   \n",
       "55226  7.896294e+12        5715660      F     2016-05-17   19  SANTO ANTÔNIO   \n",
       "64175  2.425226e+13        5664962      F     2016-05-04   22     CONSOLAÇÃO   \n",
       "71533  9.982316e+14        5686628      F     2016-05-05   81  SANTO ANTÔNIO   \n",
       "72362  3.787482e+12        5655637      M     2016-05-03    7     TABUAZEIRO   \n",
       "\n",
       "       Bolsa  Hypertension  Diabetes  Alcoholism  Handicap  SMS Absent  \\\n",
       "27033      0             0         0           0         1    0    Yes   \n",
       "55226      0             0         0           0         1    0    Yes   \n",
       "64175      0             0         0           0         0    0    Yes   \n",
       "71533      0             0         0           0         0    0    Yes   \n",
       "72362      0             0         0           0         0    0    Yes   \n",
       "\n",
       "       Due_days  \n",
       "27033        -1  \n",
       "55226        -1  \n",
       "64175        -1  \n",
       "71533        -6  \n",
       "72362        -1  "
      ]
     },
     "execution_count": 16,
     "metadata": {},
     "output_type": "execute_result"
    }
   ],
   "source": [
    "# viewing negative days values\n",
    "df[df['Due_days'] < 0 ]"
   ]
  },
  {
   "cell_type": "code",
   "execution_count": 17,
   "id": "7f933155",
   "metadata": {},
   "outputs": [
    {
     "data": {
      "text/plain": [
       "count    110522.000000\n",
       "mean         10.184253\n",
       "std          15.255115\n",
       "min           0.000000\n",
       "25%           0.000000\n",
       "50%           4.000000\n",
       "75%          15.000000\n",
       "max         179.000000\n",
       "Name: Due_days, dtype: float64"
      ]
     },
     "execution_count": 17,
     "metadata": {},
     "output_type": "execute_result"
    }
   ],
   "source": [
    "# dropping these values and confirming changes\n",
    "df.drop(df[df['Due_days'] < 0].index, inplace = True)\n",
    "df['Due_days'].describe()"
   ]
  },
  {
   "cell_type": "markdown",
   "id": "96c7cf4c",
   "metadata": {},
   "source": [
    "<div class=\"alert alert-block alert-info\">\n",
    "<b>To-do:</b></br> \n",
    "<blockquote>Next, appending a new column day of week.</blockquote>\n",
    "</div>"
   ]
  },
  {
   "cell_type": "code",
   "execution_count": 18,
   "id": "16973779",
   "metadata": {},
   "outputs": [],
   "source": [
    "# making a new column\n",
    "df['Day_of_week'] = df['AppointmentDay'].dt.day_name()"
   ]
  },
  {
   "cell_type": "code",
   "execution_count": 19,
   "id": "4b69e888",
   "metadata": {
    "scrolled": true
   },
   "outputs": [
    {
     "data": {
      "text/html": [
       "<div>\n",
       "<style scoped>\n",
       "    .dataframe tbody tr th:only-of-type {\n",
       "        vertical-align: middle;\n",
       "    }\n",
       "\n",
       "    .dataframe tbody tr th {\n",
       "        vertical-align: top;\n",
       "    }\n",
       "\n",
       "    .dataframe thead th {\n",
       "        text-align: right;\n",
       "    }\n",
       "</style>\n",
       "<table border=\"1\" class=\"dataframe\">\n",
       "  <thead>\n",
       "    <tr style=\"text-align: right;\">\n",
       "      <th></th>\n",
       "      <th>Number of Appointments</th>\n",
       "    </tr>\n",
       "  </thead>\n",
       "  <tbody>\n",
       "    <tr>\n",
       "      <th>Wednesday</th>\n",
       "      <td>25866</td>\n",
       "    </tr>\n",
       "    <tr>\n",
       "      <th>Tuesday</th>\n",
       "      <td>25638</td>\n",
       "    </tr>\n",
       "    <tr>\n",
       "      <th>Monday</th>\n",
       "      <td>22714</td>\n",
       "    </tr>\n",
       "    <tr>\n",
       "      <th>Friday</th>\n",
       "      <td>19019</td>\n",
       "    </tr>\n",
       "    <tr>\n",
       "      <th>Thursday</th>\n",
       "      <td>17246</td>\n",
       "    </tr>\n",
       "    <tr>\n",
       "      <th>Saturday</th>\n",
       "      <td>39</td>\n",
       "    </tr>\n",
       "  </tbody>\n",
       "</table>\n",
       "</div>"
      ],
      "text/plain": [
       "           Number of Appointments\n",
       "Wednesday                   25866\n",
       "Tuesday                     25638\n",
       "Monday                      22714\n",
       "Friday                      19019\n",
       "Thursday                    17246\n",
       "Saturday                       39"
      ]
     },
     "execution_count": 19,
     "metadata": {},
     "output_type": "execute_result"
    }
   ],
   "source": [
    "# getting the number of records\n",
    "df.Day_of_week.value_counts().to_frame(name='Number of Appointments')"
   ]
  },
  {
   "cell_type": "markdown",
   "id": "e64a13b4",
   "metadata": {},
   "source": [
    "<div class=\"alert alert-block alert-info\">\n",
    "<b>To-do:</b></br> \n",
    "<blockquote>Next, appending a new column age group.</blockquote>\n",
    "</div>"
   ]
  },
  {
   "cell_type": "code",
   "execution_count": 20,
   "id": "3a8f4b2c",
   "metadata": {},
   "outputs": [],
   "source": [
    "# Adding age group\n",
    "bins= [0,2,4,12,18,29,60,120]\n",
    "labels = ['Infant','Toddler','Kid','Teen','Young_adult','Adult', 'Senior']\n",
    "df['Age_group'] = pd.cut(df['Age'], bins=bins, labels=labels, right=False)"
   ]
  },
  {
   "cell_type": "code",
   "execution_count": 21,
   "id": "698d2f91",
   "metadata": {},
   "outputs": [
    {
     "data": {
      "text/html": [
       "<div>\n",
       "<style scoped>\n",
       "    .dataframe tbody tr th:only-of-type {\n",
       "        vertical-align: middle;\n",
       "    }\n",
       "\n",
       "    .dataframe tbody tr th {\n",
       "        vertical-align: top;\n",
       "    }\n",
       "\n",
       "    .dataframe thead th {\n",
       "        text-align: right;\n",
       "    }\n",
       "</style>\n",
       "<table border=\"1\" class=\"dataframe\">\n",
       "  <thead>\n",
       "    <tr style=\"text-align: right;\">\n",
       "      <th></th>\n",
       "      <th>Number of age group</th>\n",
       "    </tr>\n",
       "  </thead>\n",
       "  <tbody>\n",
       "    <tr>\n",
       "      <th>Adult</th>\n",
       "      <td>46645</td>\n",
       "    </tr>\n",
       "    <tr>\n",
       "      <th>Senior</th>\n",
       "      <td>21172</td>\n",
       "    </tr>\n",
       "    <tr>\n",
       "      <th>Young_adult</th>\n",
       "      <td>15326</td>\n",
       "    </tr>\n",
       "    <tr>\n",
       "      <th>Kid</th>\n",
       "      <td>11000</td>\n",
       "    </tr>\n",
       "    <tr>\n",
       "      <th>Teen</th>\n",
       "      <td>7435</td>\n",
       "    </tr>\n",
       "    <tr>\n",
       "      <th>Infant</th>\n",
       "      <td>5812</td>\n",
       "    </tr>\n",
       "    <tr>\n",
       "      <th>Toddler</th>\n",
       "      <td>3131</td>\n",
       "    </tr>\n",
       "  </tbody>\n",
       "</table>\n",
       "</div>"
      ],
      "text/plain": [
       "             Number of age group\n",
       "Adult                      46645\n",
       "Senior                     21172\n",
       "Young_adult                15326\n",
       "Kid                        11000\n",
       "Teen                        7435\n",
       "Infant                      5812\n",
       "Toddler                     3131"
      ]
     },
     "execution_count": 21,
     "metadata": {},
     "output_type": "execute_result"
    }
   ],
   "source": [
    "# getting the number of records\n",
    "df.Age_group.value_counts().to_frame(name='Number of age group')"
   ]
  },
  {
   "cell_type": "markdown",
   "id": "4167a98a",
   "metadata": {},
   "source": [
    "<div class=\"alert alert-block alert-info\">\n",
    "<b>To-do:</b></br> \n",
    "<blockquote>Converting Gender and No-show to categorical variables.</blockquote>\n",
    "</div>"
   ]
  },
  {
   "cell_type": "code",
   "execution_count": 22,
   "id": "7d7711b8",
   "metadata": {},
   "outputs": [
    {
     "data": {
      "text/plain": [
       "CategoricalDtype(categories=['F', 'M'], ordered=False)"
      ]
     },
     "execution_count": 22,
     "metadata": {},
     "output_type": "execute_result"
    }
   ],
   "source": [
    "# converting column and confirming changes\n",
    "df['Gender'] = df['Gender'].astype('category')\n",
    "df['Gender'].dtypes"
   ]
  },
  {
   "cell_type": "markdown",
   "id": "338008c1",
   "metadata": {},
   "source": [
    "<div class=\"alert alert-block alert-info\">\n",
    "<b>To-do:</b></br> \n",
    "<blockquote>Converting Scholarship, Hipertension, Diabetes, Alcoholism, Handcap and SMS_recieved to boolean data type.</blockquote>\n",
    "</div>"
   ]
  },
  {
   "cell_type": "code",
   "execution_count": 23,
   "id": "fef7d604",
   "metadata": {
    "scrolled": true
   },
   "outputs": [
    {
     "data": {
      "text/plain": [
       "Bolsa           bool\n",
       "Hypertension    bool\n",
       "Diabetes        bool\n",
       "Alcoholism      bool\n",
       "SMS             bool\n",
       "dtype: object"
      ]
     },
     "execution_count": 23,
     "metadata": {},
     "output_type": "execute_result"
    }
   ],
   "source": [
    "# converting columns to bool and confirming changes\n",
    "cols = ['Bolsa', 'Hypertension', 'Diabetes', 'Alcoholism', 'SMS']\n",
    "df[cols] = df[cols].astype('bool')\n",
    "df[cols].dtypes"
   ]
  },
  {
   "cell_type": "markdown",
   "id": "966d9bd6",
   "metadata": {},
   "source": [
    "<div class=\"alert alert-block alert-info\">\n",
    "<b>To-do:</b></br> \n",
    "<blockquote>Parsing and casting No-show column.</blockquote>\n",
    "</div>"
   ]
  },
  {
   "cell_type": "code",
   "execution_count": 24,
   "id": "bc8b7ad0",
   "metadata": {},
   "outputs": [
    {
     "data": {
      "text/plain": [
       "dtype('bool')"
      ]
     },
     "execution_count": 24,
     "metadata": {},
     "output_type": "execute_result"
    }
   ],
   "source": [
    "# mapping alues to be more familiar\n",
    "df.loc[df['Absent'] == 'Yes', 'Absent'] = 1\n",
    "df.loc[df['Absent'] == 'No', 'Absent'] = 0\n",
    "\n",
    "# casting dt type and confirming changes\n",
    "df['Absent'] = df['Absent'].astype(bool)\n",
    "df['Absent'].dtypes\n",
    "\n"
   ]
  },
  {
   "cell_type": "markdown",
   "id": "302c0fd6",
   "metadata": {},
   "source": [
    "<div class=\"alert alert-block alert-info\">\n",
    "<b>To-do:</b></br> \n",
    "<blockquote>Cleaning Handcap column.</blockquote>\n",
    "</div>"
   ]
  },
  {
   "cell_type": "code",
   "execution_count": 25,
   "id": "2903b89b",
   "metadata": {
    "scrolled": true
   },
   "outputs": [
    {
     "data": {
      "text/html": [
       "<div>\n",
       "<style scoped>\n",
       "    .dataframe tbody tr th:only-of-type {\n",
       "        vertical-align: middle;\n",
       "    }\n",
       "\n",
       "    .dataframe tbody tr th {\n",
       "        vertical-align: top;\n",
       "    }\n",
       "\n",
       "    .dataframe thead th {\n",
       "        text-align: right;\n",
       "    }\n",
       "</style>\n",
       "<table border=\"1\" class=\"dataframe\">\n",
       "  <thead>\n",
       "    <tr style=\"text-align: right;\">\n",
       "      <th></th>\n",
       "      <th>PatientId</th>\n",
       "      <th>AppointmentID</th>\n",
       "      <th>Gender</th>\n",
       "      <th>AppointmentDay</th>\n",
       "      <th>Age</th>\n",
       "      <th>Neighbourhood</th>\n",
       "      <th>Bolsa</th>\n",
       "      <th>Hypertension</th>\n",
       "      <th>Diabetes</th>\n",
       "      <th>Alcoholism</th>\n",
       "      <th>Handicap</th>\n",
       "      <th>SMS</th>\n",
       "      <th>Absent</th>\n",
       "      <th>Due_days</th>\n",
       "      <th>Day_of_week</th>\n",
       "      <th>Age_group</th>\n",
       "    </tr>\n",
       "  </thead>\n",
       "  <tbody>\n",
       "    <tr>\n",
       "      <th>946</th>\n",
       "      <td>7.282582e+13</td>\n",
       "      <td>5582483</td>\n",
       "      <td>M</td>\n",
       "      <td>2016-04-29</td>\n",
       "      <td>94</td>\n",
       "      <td>BELA VISTA</td>\n",
       "      <td>False</td>\n",
       "      <td>True</td>\n",
       "      <td>True</td>\n",
       "      <td>False</td>\n",
       "      <td>2</td>\n",
       "      <td>True</td>\n",
       "      <td>False</td>\n",
       "      <td>15</td>\n",
       "      <td>Friday</td>\n",
       "      <td>Senior</td>\n",
       "    </tr>\n",
       "    <tr>\n",
       "      <th>1665</th>\n",
       "      <td>1.242919e+13</td>\n",
       "      <td>5525497</td>\n",
       "      <td>M</td>\n",
       "      <td>2016-04-29</td>\n",
       "      <td>64</td>\n",
       "      <td>SANTA MARTHA</td>\n",
       "      <td>False</td>\n",
       "      <td>True</td>\n",
       "      <td>False</td>\n",
       "      <td>True</td>\n",
       "      <td>2</td>\n",
       "      <td>True</td>\n",
       "      <td>False</td>\n",
       "      <td>30</td>\n",
       "      <td>Friday</td>\n",
       "      <td>Senior</td>\n",
       "    </tr>\n",
       "    <tr>\n",
       "      <th>1666</th>\n",
       "      <td>1.242919e+13</td>\n",
       "      <td>5525498</td>\n",
       "      <td>M</td>\n",
       "      <td>2016-04-29</td>\n",
       "      <td>64</td>\n",
       "      <td>SANTA MARTHA</td>\n",
       "      <td>False</td>\n",
       "      <td>True</td>\n",
       "      <td>False</td>\n",
       "      <td>True</td>\n",
       "      <td>2</td>\n",
       "      <td>False</td>\n",
       "      <td>False</td>\n",
       "      <td>30</td>\n",
       "      <td>Friday</td>\n",
       "      <td>Senior</td>\n",
       "    </tr>\n",
       "    <tr>\n",
       "      <th>2071</th>\n",
       "      <td>1.242919e+13</td>\n",
       "      <td>5640120</td>\n",
       "      <td>M</td>\n",
       "      <td>2016-04-29</td>\n",
       "      <td>64</td>\n",
       "      <td>SANTA MARTHA</td>\n",
       "      <td>False</td>\n",
       "      <td>True</td>\n",
       "      <td>False</td>\n",
       "      <td>True</td>\n",
       "      <td>2</td>\n",
       "      <td>False</td>\n",
       "      <td>False</td>\n",
       "      <td>0</td>\n",
       "      <td>Friday</td>\n",
       "      <td>Senior</td>\n",
       "    </tr>\n",
       "    <tr>\n",
       "      <th>2091</th>\n",
       "      <td>1.491829e+13</td>\n",
       "      <td>5638626</td>\n",
       "      <td>F</td>\n",
       "      <td>2016-04-29</td>\n",
       "      <td>11</td>\n",
       "      <td>ANDORINHAS</td>\n",
       "      <td>False</td>\n",
       "      <td>False</td>\n",
       "      <td>False</td>\n",
       "      <td>False</td>\n",
       "      <td>2</td>\n",
       "      <td>False</td>\n",
       "      <td>False</td>\n",
       "      <td>0</td>\n",
       "      <td>Friday</td>\n",
       "      <td>Kid</td>\n",
       "    </tr>\n",
       "    <tr>\n",
       "      <th>...</th>\n",
       "      <td>...</td>\n",
       "      <td>...</td>\n",
       "      <td>...</td>\n",
       "      <td>...</td>\n",
       "      <td>...</td>\n",
       "      <td>...</td>\n",
       "      <td>...</td>\n",
       "      <td>...</td>\n",
       "      <td>...</td>\n",
       "      <td>...</td>\n",
       "      <td>...</td>\n",
       "      <td>...</td>\n",
       "      <td>...</td>\n",
       "      <td>...</td>\n",
       "      <td>...</td>\n",
       "      <td>...</td>\n",
       "    </tr>\n",
       "    <tr>\n",
       "      <th>108376</th>\n",
       "      <td>2.387212e+14</td>\n",
       "      <td>5756931</td>\n",
       "      <td>F</td>\n",
       "      <td>2016-06-07</td>\n",
       "      <td>44</td>\n",
       "      <td>ROMÃO</td>\n",
       "      <td>False</td>\n",
       "      <td>True</td>\n",
       "      <td>True</td>\n",
       "      <td>False</td>\n",
       "      <td>2</td>\n",
       "      <td>True</td>\n",
       "      <td>False</td>\n",
       "      <td>6</td>\n",
       "      <td>Tuesday</td>\n",
       "      <td>Adult</td>\n",
       "    </tr>\n",
       "    <tr>\n",
       "      <th>109484</th>\n",
       "      <td>3.589495e+14</td>\n",
       "      <td>5752442</td>\n",
       "      <td>M</td>\n",
       "      <td>2016-06-02</td>\n",
       "      <td>64</td>\n",
       "      <td>DA PENHA</td>\n",
       "      <td>False</td>\n",
       "      <td>True</td>\n",
       "      <td>True</td>\n",
       "      <td>False</td>\n",
       "      <td>2</td>\n",
       "      <td>False</td>\n",
       "      <td>False</td>\n",
       "      <td>2</td>\n",
       "      <td>Thursday</td>\n",
       "      <td>Senior</td>\n",
       "    </tr>\n",
       "    <tr>\n",
       "      <th>109733</th>\n",
       "      <td>5.662976e+14</td>\n",
       "      <td>5772744</td>\n",
       "      <td>F</td>\n",
       "      <td>2016-06-07</td>\n",
       "      <td>34</td>\n",
       "      <td>JUCUTUQUARA</td>\n",
       "      <td>False</td>\n",
       "      <td>False</td>\n",
       "      <td>False</td>\n",
       "      <td>False</td>\n",
       "      <td>2</td>\n",
       "      <td>True</td>\n",
       "      <td>False</td>\n",
       "      <td>4</td>\n",
       "      <td>Tuesday</td>\n",
       "      <td>Adult</td>\n",
       "    </tr>\n",
       "    <tr>\n",
       "      <th>109975</th>\n",
       "      <td>4.522185e+13</td>\n",
       "      <td>5766970</td>\n",
       "      <td>M</td>\n",
       "      <td>2016-06-06</td>\n",
       "      <td>39</td>\n",
       "      <td>PRAIA DO SUÁ</td>\n",
       "      <td>True</td>\n",
       "      <td>False</td>\n",
       "      <td>False</td>\n",
       "      <td>False</td>\n",
       "      <td>2</td>\n",
       "      <td>True</td>\n",
       "      <td>False</td>\n",
       "      <td>4</td>\n",
       "      <td>Monday</td>\n",
       "      <td>Adult</td>\n",
       "    </tr>\n",
       "    <tr>\n",
       "      <th>110107</th>\n",
       "      <td>7.143714e+14</td>\n",
       "      <td>5761625</td>\n",
       "      <td>F</td>\n",
       "      <td>2016-06-06</td>\n",
       "      <td>44</td>\n",
       "      <td>RESISTÊNCIA</td>\n",
       "      <td>False</td>\n",
       "      <td>False</td>\n",
       "      <td>False</td>\n",
       "      <td>False</td>\n",
       "      <td>2</td>\n",
       "      <td>True</td>\n",
       "      <td>False</td>\n",
       "      <td>4</td>\n",
       "      <td>Monday</td>\n",
       "      <td>Adult</td>\n",
       "    </tr>\n",
       "  </tbody>\n",
       "</table>\n",
       "<p>199 rows × 16 columns</p>\n",
       "</div>"
      ],
      "text/plain": [
       "           PatientId  AppointmentID Gender AppointmentDay  Age Neighbourhood  \\\n",
       "946     7.282582e+13        5582483      M     2016-04-29   94    BELA VISTA   \n",
       "1665    1.242919e+13        5525497      M     2016-04-29   64  SANTA MARTHA   \n",
       "1666    1.242919e+13        5525498      M     2016-04-29   64  SANTA MARTHA   \n",
       "2071    1.242919e+13        5640120      M     2016-04-29   64  SANTA MARTHA   \n",
       "2091    1.491829e+13        5638626      F     2016-04-29   11    ANDORINHAS   \n",
       "...              ...            ...    ...            ...  ...           ...   \n",
       "108376  2.387212e+14        5756931      F     2016-06-07   44         ROMÃO   \n",
       "109484  3.589495e+14        5752442      M     2016-06-02   64      DA PENHA   \n",
       "109733  5.662976e+14        5772744      F     2016-06-07   34   JUCUTUQUARA   \n",
       "109975  4.522185e+13        5766970      M     2016-06-06   39  PRAIA DO SUÁ   \n",
       "110107  7.143714e+14        5761625      F     2016-06-06   44   RESISTÊNCIA   \n",
       "\n",
       "        Bolsa  Hypertension  Diabetes  Alcoholism  Handicap    SMS  Absent  \\\n",
       "946     False          True      True       False         2   True   False   \n",
       "1665    False          True     False        True         2   True   False   \n",
       "1666    False          True     False        True         2  False   False   \n",
       "2071    False          True     False        True         2  False   False   \n",
       "2091    False         False     False       False         2  False   False   \n",
       "...       ...           ...       ...         ...       ...    ...     ...   \n",
       "108376  False          True      True       False         2   True   False   \n",
       "109484  False          True      True       False         2  False   False   \n",
       "109733  False         False     False       False         2   True   False   \n",
       "109975   True         False     False       False         2   True   False   \n",
       "110107  False         False     False       False         2   True   False   \n",
       "\n",
       "        Due_days Day_of_week Age_group  \n",
       "946           15      Friday    Senior  \n",
       "1665          30      Friday    Senior  \n",
       "1666          30      Friday    Senior  \n",
       "2071           0      Friday    Senior  \n",
       "2091           0      Friday       Kid  \n",
       "...          ...         ...       ...  \n",
       "108376         6     Tuesday     Adult  \n",
       "109484         2    Thursday    Senior  \n",
       "109733         4     Tuesday     Adult  \n",
       "109975         4      Monday     Adult  \n",
       "110107         4      Monday     Adult  \n",
       "\n",
       "[199 rows x 16 columns]"
      ]
     },
     "execution_count": 25,
     "metadata": {},
     "output_type": "execute_result"
    }
   ],
   "source": [
    "# viewing rows with values of handicap > 1\n",
    "df[df['Handicap'] > 1]"
   ]
  },
  {
   "cell_type": "markdown",
   "id": "408b36f9",
   "metadata": {},
   "source": [
    "<div class=\"alert alert-block alert-info\">\n",
    "<b>To-do:</b></br> \n",
    "<blockquote>There are 199 rows with inconsistant values, we'd replace them with 1 to treat them as beeing handcaped.</blockquote>\n",
    "</div>"
   ]
  },
  {
   "cell_type": "code",
   "execution_count": 26,
   "id": "70c1d017",
   "metadata": {
    "scrolled": true
   },
   "outputs": [
    {
     "data": {
      "text/plain": [
       "array([False,  True])"
      ]
     },
     "execution_count": 26,
     "metadata": {},
     "output_type": "execute_result"
    }
   ],
   "source": [
    "# filling the bigger values with 1\n",
    "df.loc[df['Handicap'].isin([2, 3, 4]), 'Handicap'] = 1\n",
    "\n",
    "# casting type and confirming changes\n",
    "df['Handicap'] = df['Handicap'].astype('bool')\n",
    "df['Handicap'].unique()"
   ]
  },
  {
   "cell_type": "markdown",
   "id": "2f750617",
   "metadata": {},
   "source": [
    "<div class=\"alert alert-block alert-info\">\n",
    "<b>To-do:</b></br> \n",
    "<blockquote>There is one value with negative age, so we will drop it</blockquote>\n",
    "</div>"
   ]
  },
  {
   "cell_type": "code",
   "execution_count": 27,
   "id": "772caa4f",
   "metadata": {
    "scrolled": false
   },
   "outputs": [
    {
     "data": {
      "text/html": [
       "<div>\n",
       "<style scoped>\n",
       "    .dataframe tbody tr th:only-of-type {\n",
       "        vertical-align: middle;\n",
       "    }\n",
       "\n",
       "    .dataframe tbody tr th {\n",
       "        vertical-align: top;\n",
       "    }\n",
       "\n",
       "    .dataframe thead th {\n",
       "        text-align: right;\n",
       "    }\n",
       "</style>\n",
       "<table border=\"1\" class=\"dataframe\">\n",
       "  <thead>\n",
       "    <tr style=\"text-align: right;\">\n",
       "      <th></th>\n",
       "      <th>PatientId</th>\n",
       "      <th>AppointmentID</th>\n",
       "      <th>Gender</th>\n",
       "      <th>AppointmentDay</th>\n",
       "      <th>Age</th>\n",
       "      <th>Neighbourhood</th>\n",
       "      <th>Bolsa</th>\n",
       "      <th>Hypertension</th>\n",
       "      <th>Diabetes</th>\n",
       "      <th>Alcoholism</th>\n",
       "      <th>Handicap</th>\n",
       "      <th>SMS</th>\n",
       "      <th>Absent</th>\n",
       "      <th>Due_days</th>\n",
       "      <th>Day_of_week</th>\n",
       "      <th>Age_group</th>\n",
       "    </tr>\n",
       "  </thead>\n",
       "  <tbody>\n",
       "    <tr>\n",
       "      <th>99832</th>\n",
       "      <td>4.659432e+14</td>\n",
       "      <td>5775010</td>\n",
       "      <td>F</td>\n",
       "      <td>2016-06-06</td>\n",
       "      <td>-1</td>\n",
       "      <td>ROMÃO</td>\n",
       "      <td>False</td>\n",
       "      <td>False</td>\n",
       "      <td>False</td>\n",
       "      <td>False</td>\n",
       "      <td>False</td>\n",
       "      <td>False</td>\n",
       "      <td>False</td>\n",
       "      <td>0</td>\n",
       "      <td>Monday</td>\n",
       "      <td>NaN</td>\n",
       "    </tr>\n",
       "  </tbody>\n",
       "</table>\n",
       "</div>"
      ],
      "text/plain": [
       "          PatientId  AppointmentID Gender AppointmentDay  Age Neighbourhood  \\\n",
       "99832  4.659432e+14        5775010      F     2016-06-06   -1         ROMÃO   \n",
       "\n",
       "       Bolsa  Hypertension  Diabetes  Alcoholism  Handicap    SMS  Absent  \\\n",
       "99832  False         False     False       False     False  False   False   \n",
       "\n",
       "       Due_days Day_of_week Age_group  \n",
       "99832         0      Monday       NaN  "
      ]
     },
     "execution_count": 27,
     "metadata": {},
     "output_type": "execute_result"
    }
   ],
   "source": [
    "#exploring values below 0\n",
    "df[df['Age'] < 0]"
   ]
  },
  {
   "cell_type": "code",
   "execution_count": 28,
   "id": "0761bc15",
   "metadata": {
    "scrolled": false
   },
   "outputs": [
    {
     "data": {
      "text/html": [
       "<div>\n",
       "<style scoped>\n",
       "    .dataframe tbody tr th:only-of-type {\n",
       "        vertical-align: middle;\n",
       "    }\n",
       "\n",
       "    .dataframe tbody tr th {\n",
       "        vertical-align: top;\n",
       "    }\n",
       "\n",
       "    .dataframe thead th {\n",
       "        text-align: right;\n",
       "    }\n",
       "</style>\n",
       "<table border=\"1\" class=\"dataframe\">\n",
       "  <thead>\n",
       "    <tr style=\"text-align: right;\">\n",
       "      <th></th>\n",
       "      <th>PatientId</th>\n",
       "      <th>AppointmentID</th>\n",
       "      <th>Gender</th>\n",
       "      <th>AppointmentDay</th>\n",
       "      <th>Age</th>\n",
       "      <th>Neighbourhood</th>\n",
       "      <th>Bolsa</th>\n",
       "      <th>Hypertension</th>\n",
       "      <th>Diabetes</th>\n",
       "      <th>Alcoholism</th>\n",
       "      <th>Handicap</th>\n",
       "      <th>SMS</th>\n",
       "      <th>Absent</th>\n",
       "      <th>Due_days</th>\n",
       "      <th>Day_of_week</th>\n",
       "      <th>Age_group</th>\n",
       "    </tr>\n",
       "  </thead>\n",
       "  <tbody>\n",
       "  </tbody>\n",
       "</table>\n",
       "</div>"
      ],
      "text/plain": [
       "Empty DataFrame\n",
       "Columns: [PatientId, AppointmentID, Gender, AppointmentDay, Age, Neighbourhood, Bolsa, Hypertension, Diabetes, Alcoholism, Handicap, SMS, Absent, Due_days, Day_of_week, Age_group]\n",
       "Index: []"
      ]
     },
     "execution_count": 28,
     "metadata": {},
     "output_type": "execute_result"
    }
   ],
   "source": [
    "# dropping row with negative age and confirming changes\n",
    "df.drop(df[df['Age'] < 0].index, inplace = True)\n",
    "df[df['Age'] < 0]"
   ]
  },
  {
   "cell_type": "code",
   "execution_count": 29,
   "id": "bcbb531a",
   "metadata": {
    "scrolled": false
   },
   "outputs": [
    {
     "data": {
      "text/html": [
       "<div>\n",
       "<style scoped>\n",
       "    .dataframe tbody tr th:only-of-type {\n",
       "        vertical-align: middle;\n",
       "    }\n",
       "\n",
       "    .dataframe tbody tr th {\n",
       "        vertical-align: top;\n",
       "    }\n",
       "\n",
       "    .dataframe thead th {\n",
       "        text-align: right;\n",
       "    }\n",
       "</style>\n",
       "<table border=\"1\" class=\"dataframe\">\n",
       "  <thead>\n",
       "    <tr style=\"text-align: right;\">\n",
       "      <th></th>\n",
       "      <th>PatientId</th>\n",
       "      <th>AppointmentID</th>\n",
       "      <th>Gender</th>\n",
       "      <th>AppointmentDay</th>\n",
       "      <th>Age</th>\n",
       "      <th>Neighbourhood</th>\n",
       "      <th>Bolsa</th>\n",
       "      <th>Hypertension</th>\n",
       "      <th>Diabetes</th>\n",
       "      <th>Alcoholism</th>\n",
       "      <th>Handicap</th>\n",
       "      <th>SMS</th>\n",
       "      <th>Absent</th>\n",
       "      <th>Due_days</th>\n",
       "      <th>Day_of_week</th>\n",
       "      <th>Age_group</th>\n",
       "    </tr>\n",
       "  </thead>\n",
       "  <tbody>\n",
       "    <tr>\n",
       "      <th>0</th>\n",
       "      <td>2.987250e+13</td>\n",
       "      <td>5642903</td>\n",
       "      <td>F</td>\n",
       "      <td>2016-04-29</td>\n",
       "      <td>62</td>\n",
       "      <td>JARDIM DA PENHA</td>\n",
       "      <td>False</td>\n",
       "      <td>True</td>\n",
       "      <td>False</td>\n",
       "      <td>False</td>\n",
       "      <td>False</td>\n",
       "      <td>False</td>\n",
       "      <td>False</td>\n",
       "      <td>0</td>\n",
       "      <td>Friday</td>\n",
       "      <td>Senior</td>\n",
       "    </tr>\n",
       "    <tr>\n",
       "      <th>1</th>\n",
       "      <td>5.589978e+14</td>\n",
       "      <td>5642503</td>\n",
       "      <td>M</td>\n",
       "      <td>2016-04-29</td>\n",
       "      <td>56</td>\n",
       "      <td>JARDIM DA PENHA</td>\n",
       "      <td>False</td>\n",
       "      <td>False</td>\n",
       "      <td>False</td>\n",
       "      <td>False</td>\n",
       "      <td>False</td>\n",
       "      <td>False</td>\n",
       "      <td>False</td>\n",
       "      <td>0</td>\n",
       "      <td>Friday</td>\n",
       "      <td>Adult</td>\n",
       "    </tr>\n",
       "    <tr>\n",
       "      <th>2</th>\n",
       "      <td>4.262962e+12</td>\n",
       "      <td>5642549</td>\n",
       "      <td>F</td>\n",
       "      <td>2016-04-29</td>\n",
       "      <td>62</td>\n",
       "      <td>MATA DA PRAIA</td>\n",
       "      <td>False</td>\n",
       "      <td>False</td>\n",
       "      <td>False</td>\n",
       "      <td>False</td>\n",
       "      <td>False</td>\n",
       "      <td>False</td>\n",
       "      <td>False</td>\n",
       "      <td>0</td>\n",
       "      <td>Friday</td>\n",
       "      <td>Senior</td>\n",
       "    </tr>\n",
       "    <tr>\n",
       "      <th>3</th>\n",
       "      <td>8.679512e+11</td>\n",
       "      <td>5642828</td>\n",
       "      <td>F</td>\n",
       "      <td>2016-04-29</td>\n",
       "      <td>8</td>\n",
       "      <td>PONTAL DE CAMBURI</td>\n",
       "      <td>False</td>\n",
       "      <td>False</td>\n",
       "      <td>False</td>\n",
       "      <td>False</td>\n",
       "      <td>False</td>\n",
       "      <td>False</td>\n",
       "      <td>False</td>\n",
       "      <td>0</td>\n",
       "      <td>Friday</td>\n",
       "      <td>Kid</td>\n",
       "    </tr>\n",
       "    <tr>\n",
       "      <th>4</th>\n",
       "      <td>8.841186e+12</td>\n",
       "      <td>5642494</td>\n",
       "      <td>F</td>\n",
       "      <td>2016-04-29</td>\n",
       "      <td>56</td>\n",
       "      <td>JARDIM DA PENHA</td>\n",
       "      <td>False</td>\n",
       "      <td>True</td>\n",
       "      <td>True</td>\n",
       "      <td>False</td>\n",
       "      <td>False</td>\n",
       "      <td>False</td>\n",
       "      <td>False</td>\n",
       "      <td>0</td>\n",
       "      <td>Friday</td>\n",
       "      <td>Adult</td>\n",
       "    </tr>\n",
       "  </tbody>\n",
       "</table>\n",
       "</div>"
      ],
      "text/plain": [
       "      PatientId  AppointmentID Gender AppointmentDay  Age      Neighbourhood  \\\n",
       "0  2.987250e+13        5642903      F     2016-04-29   62    JARDIM DA PENHA   \n",
       "1  5.589978e+14        5642503      M     2016-04-29   56    JARDIM DA PENHA   \n",
       "2  4.262962e+12        5642549      F     2016-04-29   62      MATA DA PRAIA   \n",
       "3  8.679512e+11        5642828      F     2016-04-29    8  PONTAL DE CAMBURI   \n",
       "4  8.841186e+12        5642494      F     2016-04-29   56    JARDIM DA PENHA   \n",
       "\n",
       "   Bolsa  Hypertension  Diabetes  Alcoholism  Handicap    SMS  Absent  \\\n",
       "0  False          True     False       False     False  False   False   \n",
       "1  False         False     False       False     False  False   False   \n",
       "2  False         False     False       False     False  False   False   \n",
       "3  False         False     False       False     False  False   False   \n",
       "4  False          True      True       False     False  False   False   \n",
       "\n",
       "   Due_days Day_of_week Age_group  \n",
       "0         0      Friday    Senior  \n",
       "1         0      Friday     Adult  \n",
       "2         0      Friday    Senior  \n",
       "3         0      Friday       Kid  \n",
       "4         0      Friday     Adult  "
      ]
     },
     "execution_count": 29,
     "metadata": {},
     "output_type": "execute_result"
    }
   ],
   "source": [
    "df.head()"
   ]
  },
  {
   "cell_type": "code",
   "execution_count": 30,
   "id": "862c515e",
   "metadata": {
    "scrolled": true
   },
   "outputs": [
    {
     "name": "stdout",
     "output_type": "stream",
     "text": [
      "<class 'pandas.core.frame.DataFrame'>\n",
      "Int64Index: 110521 entries, 0 to 110526\n",
      "Data columns (total 16 columns):\n",
      " #   Column          Non-Null Count   Dtype         \n",
      "---  ------          --------------   -----         \n",
      " 0   PatientId       110521 non-null  float64       \n",
      " 1   AppointmentID   110521 non-null  int64         \n",
      " 2   Gender          110521 non-null  category      \n",
      " 3   AppointmentDay  110521 non-null  datetime64[ns]\n",
      " 4   Age             110521 non-null  int64         \n",
      " 5   Neighbourhood   110521 non-null  object        \n",
      " 6   Bolsa           110521 non-null  bool          \n",
      " 7   Hypertension    110521 non-null  bool          \n",
      " 8   Diabetes        110521 non-null  bool          \n",
      " 9   Alcoholism      110521 non-null  bool          \n",
      " 10  Handicap        110521 non-null  bool          \n",
      " 11  SMS             110521 non-null  bool          \n",
      " 12  Absent          110521 non-null  bool          \n",
      " 13  Due_days        110521 non-null  int64         \n",
      " 14  Day_of_week     110521 non-null  object        \n",
      " 15  Age_group       110521 non-null  category      \n",
      "dtypes: bool(7), category(2), datetime64[ns](1), float64(1), int64(3), object(2)\n",
      "memory usage: 7.7+ MB\n"
     ]
    }
   ],
   "source": [
    "df.info()"
   ]
  },
  {
   "cell_type": "markdown",
   "id": "bfa2c50f",
   "metadata": {},
   "source": [
    "<div class=\"alert alert-block alert-success\">\n",
    "<b>Sum up:</b></br>\n",
    "<blockquote>There endded up with a datafram of 110526 rows and 12 columns, and everything looks tidy and clean. We'd proceed in visualizing it to extract meaningful insights from it.</blockquote>\n",
    "</div>"
   ]
  },
  {
   "cell_type": "markdown",
   "id": "6fbd3add",
   "metadata": {},
   "source": [
    "***"
   ]
  },
  {
   "cell_type": "markdown",
   "id": "4615659c",
   "metadata": {},
   "source": [
    "## Exploratory Data Analysis\n",
    "<a id='Exploratory-Data-Analysis'></a>\n",
    "> Here, we are going to explore the dataset. The independent variable are age, gender, patients receiving SMS, appointment lead time, patients receiving Bolsa, having certain diseases, day of the week and our dependent variable is absentee of patients"
   ]
  },
  {
   "cell_type": "markdown",
   "id": "1d57424d",
   "metadata": {},
   "source": [
    "### Q1: Do a patient's age and gender have a relationship with attendance for their appointment? What are the age groups affected by this?"
   ]
  },
  {
   "cell_type": "code",
   "execution_count": 31,
   "id": "6b81b8ab",
   "metadata": {},
   "outputs": [
    {
     "data": {
      "image/png": "[encoded data removed]",
      "text/plain": [
       "<Figure size 432x432 with 1 Axes>"
      ]
     },
     "metadata": {},
     "output_type": "display_data"
    }
   ],
   "source": [
    "df['Absent'].value_counts().plot.pie(figsize=(6,6), autopct='%.2f%%', explode=(0, .05))\n",
    "plt.show()"
   ]
  },
  {
   "cell_type": "markdown",
   "id": "2868a19c",
   "metadata": {},
   "source": [
    "<div class=\"alert alert-block alert-success\">\n",
    "<b>Result:</b></br>\n",
    "<blockquote>it is obvious that 79.8% of our patients did show up on their appointments and only 20.1% of them did not.</blockquote>\n",
    "</div>"
   ]
  },
  {
   "cell_type": "code",
   "execution_count": 32,
   "id": "67f0e5ab",
   "metadata": {},
   "outputs": [
    {
     "data": {
      "image/png": "[encoded data removed]",
      "text/plain": [
       "<Figure size 432x288 with 1 Axes>"
      ]
     },
     "metadata": {},
     "output_type": "display_data"
    }
   ],
   "source": [
    "# setting seaborn configurations\n",
    "sns.set_style(\"whitegrid\")\n",
    "\n",
    "# viewing count plot of gender distribution in our dataset\n",
    "sns.countplot(x = 'Gender', data = df)\n",
    "plt.title(\"Gender Distribution\")\n",
    "plt.show()"
   ]
  },
  {
   "cell_type": "code",
   "execution_count": 33,
   "id": "3ee69eb1",
   "metadata": {},
   "outputs": [
    {
     "data": {
      "text/html": [
       "<div>\n",
       "<style scoped>\n",
       "    .dataframe tbody tr th:only-of-type {\n",
       "        vertical-align: middle;\n",
       "    }\n",
       "\n",
       "    .dataframe tbody tr th {\n",
       "        vertical-align: top;\n",
       "    }\n",
       "\n",
       "    .dataframe thead tr th {\n",
       "        text-align: left;\n",
       "    }\n",
       "\n",
       "    .dataframe thead tr:last-of-type th {\n",
       "        text-align: right;\n",
       "    }\n",
       "</style>\n",
       "<table border=\"1\" class=\"dataframe\">\n",
       "  <thead>\n",
       "    <tr>\n",
       "      <th></th>\n",
       "      <th colspan=\"7\" halign=\"left\">AppointmentID</th>\n",
       "      <th>Grand total</th>\n",
       "    </tr>\n",
       "    <tr>\n",
       "      <th>Age_group</th>\n",
       "      <th>Infant</th>\n",
       "      <th>Toddler</th>\n",
       "      <th>Kid</th>\n",
       "      <th>Teen</th>\n",
       "      <th>Young_adult</th>\n",
       "      <th>Adult</th>\n",
       "      <th>Senior</th>\n",
       "      <th></th>\n",
       "    </tr>\n",
       "    <tr>\n",
       "      <th>Gender</th>\n",
       "      <th></th>\n",
       "      <th></th>\n",
       "      <th></th>\n",
       "      <th></th>\n",
       "      <th></th>\n",
       "      <th></th>\n",
       "      <th></th>\n",
       "      <th></th>\n",
       "    </tr>\n",
       "  </thead>\n",
       "  <tbody>\n",
       "    <tr>\n",
       "      <th>F</th>\n",
       "      <td>521</td>\n",
       "      <td>254</td>\n",
       "      <td>1125</td>\n",
       "      <td>1162</td>\n",
       "      <td>2788</td>\n",
       "      <td>6502</td>\n",
       "      <td>2239</td>\n",
       "      <td>14591</td>\n",
       "    </tr>\n",
       "    <tr>\n",
       "      <th>M</th>\n",
       "      <td>533</td>\n",
       "      <td>275</td>\n",
       "      <td>1326</td>\n",
       "      <td>800</td>\n",
       "      <td>1004</td>\n",
       "      <td>2783</td>\n",
       "      <td>1002</td>\n",
       "      <td>7723</td>\n",
       "    </tr>\n",
       "  </tbody>\n",
       "</table>\n",
       "</div>"
      ],
      "text/plain": [
       "          AppointmentID                                               \\\n",
       "Age_group        Infant Toddler   Kid  Teen Young_adult Adult Senior   \n",
       "Gender                                                                 \n",
       "F                   521     254  1125  1162        2788  6502   2239   \n",
       "M                   533     275  1326   800        1004  2783   1002   \n",
       "\n",
       "          Grand total  \n",
       "Age_group              \n",
       "Gender                 \n",
       "F               14591  \n",
       "M                7723  "
      ]
     },
     "execution_count": 33,
     "metadata": {},
     "output_type": "execute_result"
    }
   ],
   "source": [
    "# pivot table\n",
    "table=pd.pivot_table(df[df['Absent']==True],index=['Gender'],columns=['Age_group']\n",
    "                     ,values=['AppointmentID'],aggfunc='count')\n",
    "\n",
    "# add grand total\n",
    "table['Grand total'] = table.sum(axis=1)\n",
    "table"
   ]
  },
  {
   "cell_type": "code",
   "execution_count": 34,
   "id": "114dad83",
   "metadata": {},
   "outputs": [
    {
     "data": {
      "text/plain": [
       "<AxesSubplot:>"
      ]
     },
     "execution_count": 34,
     "metadata": {},
     "output_type": "execute_result"
    },
    {
     "data": {
      "image/png": "[encoded data removed]",
      "text/plain": [
       "<Figure size 432x288 with 1 Axes>"
      ]
     },
     "metadata": {},
     "output_type": "display_data"
    }
   ],
   "source": [
    "# ploting age destribution\n",
    "df['Age'].hist()"
   ]
  },
  {
   "cell_type": "markdown",
   "id": "81204d70",
   "metadata": {},
   "source": [
    "<div class=\"alert alert-block alert-success\">\n",
    "<b>Result:</b></br>\n",
    "<blockquote>We can notice that nearly half of our dataset consists of women with wider age distribution and achieves a rate higher than men across most of the age group.</blockquote>\n",
    "</div>"
   ]
  },
  {
   "cell_type": "code",
   "execution_count": 35,
   "id": "f56fe3d8",
   "metadata": {
    "scrolled": false
   },
   "outputs": [
    {
     "data": {
      "image/png": "[encoded data removed]",
      "text/plain": [
       "<Figure size 432x288 with 1 Axes>"
      ]
     },
     "metadata": {},
     "output_type": "display_data"
    }
   ],
   "source": [
    "# showing the gender destribution with respect to the no-show colunmn\n",
    "sns.countplot(x = 'Gender', data = df, hue = 'Absent')\n",
    "plt.title('gender destribution with respect to no-show colunmn')\n",
    "plt.show()"
   ]
  },
  {
   "cell_type": "markdown",
   "id": "773562e4",
   "metadata": {},
   "source": [
    "<div class=\"alert alert-block alert-success\">\n",
    "<b>Result:</b></br>\n",
    "<blockquote>From the above chart, come up with a conclusion that women do show up on their appointments more often than men do, but this may be affected by the percentage of women on this dataset.</blockquote>\n",
    "</div>"
   ]
  },
  {
   "cell_type": "markdown",
   "id": "89585f61",
   "metadata": {},
   "source": [
    "## Q2: Does receiving a message affect the patient's attendance?"
   ]
  },
  {
   "cell_type": "code",
   "execution_count": 36,
   "id": "4bc8b3da",
   "metadata": {
    "scrolled": true
   },
   "outputs": [
    {
     "data": {
      "image/png": "[encoded data removed]",
      "text/plain": [
       "<Figure size 432x288 with 1 Axes>"
      ]
     },
     "metadata": {},
     "output_type": "display_data"
    }
   ],
   "source": [
    "# viewing count plot of recieving SMS distribution in our dataset\n",
    "sns.countplot(x = 'SMS', data = df)\n",
    "plt.title(\"SMS received destribution\")\n",
    "plt.show()"
   ]
  },
  {
   "cell_type": "code",
   "execution_count": 37,
   "id": "3cb10729",
   "metadata": {},
   "outputs": [
    {
     "data": {
      "text/plain": [
       "False    75039\n",
       "True     35482\n",
       "Name: SMS, dtype: int64"
      ]
     },
     "execution_count": 37,
     "metadata": {},
     "output_type": "execute_result"
    }
   ],
   "source": [
    "df['SMS'].value_counts()"
   ]
  },
  {
   "cell_type": "markdown",
   "id": "ade07d8b",
   "metadata": {},
   "source": [
    "<div class=\"alert alert-block alert-success\">\n",
    "<b>Result</b></br>\n",
    "<blockquote>There is 67.8% of the patients did not receive any SMS reminder of their appointments, could this be affecting their showing up?</blockquote>\n",
    "</div>"
   ]
  },
  {
   "cell_type": "code",
   "execution_count": 38,
   "id": "ca292585",
   "metadata": {
    "scrolled": true
   },
   "outputs": [
    {
     "data": {
      "image/png": "[encoded data removed]",
      "text/plain": [
       "<Figure size 432x288 with 1 Axes>"
      ]
     },
     "metadata": {},
     "output_type": "display_data"
    }
   ],
   "source": [
    "# showing the sms destribution with respect to the Absent colunmn\n",
    "sns.countplot(x = 'SMS', data = df, hue = 'Absent')\n",
    "plt.title('SMS destribution with respect to no-show colunmn')\n",
    "plt.show()"
   ]
  },
  {
   "cell_type": "markdown",
   "id": "b97039c0",
   "metadata": {},
   "source": [
    "<div class=\"alert alert-block alert-success\">\n",
    "<b>Result</b></br>\n",
    "<blockquote>That's not quiet correct, as the the most patients did not receive any SMS reminder and yet they showed up on their appointments</blockquote>\n",
    "</div>"
   ]
  },
  {
   "cell_type": "markdown",
   "id": "35b2ecfc",
   "metadata": {},
   "source": [
    "## Q3: Does the appointment lead time affect the patient's attendance?"
   ]
  },
  {
   "cell_type": "code",
   "execution_count": 39,
   "id": "21316e54",
   "metadata": {},
   "outputs": [
    {
     "data": {
      "image/png": "[encoded data removed]",
      "text/plain": [
       "<Figure size 432x288 with 1 Axes>"
      ]
     },
     "metadata": {},
     "output_type": "display_data"
    }
   ],
   "source": [
    "# viewing the correlation between no-show and due-days without outliers\n",
    "sns.boxplot(x = 'Absent', y = 'Due_days', data = df, showfliers = False)\n",
    "plt.title('Absent against appointment lead time')\n",
    "plt.show()"
   ]
  },
  {
   "cell_type": "markdown",
   "id": "adb808df",
   "metadata": {},
   "source": [
    "<div class=\"alert alert-block alert-success\">\n",
    "<b>Result:</b></br>\n",
    "<blockquote>It is clear that there is a correlation between number of appointment lead time and whether a patient shows up or not. Patient with appointments from 0 to 30 days tend to show up more regularly, while patients with higher number of days tend to not show up.</blockquote>\n",
    "</div>"
   ]
  },
  {
   "cell_type": "code",
   "execution_count": 40,
   "id": "a2970024",
   "metadata": {},
   "outputs": [
    {
     "data": {
      "image/png": "[encoded data removed]",
      "text/plain": [
       "<Figure size 432x288 with 1 Axes>"
      ]
     },
     "metadata": {},
     "output_type": "display_data"
    }
   ],
   "source": [
    "# viewing the correlation between no-show and due-days without outliers with respect to gender\n",
    "sns.boxplot(x = 'Absent', y = 'Due_days', data = df, hue = 'Gender', showfliers = False)\n",
    "plt.title('Absent against appointment lead time')\n",
    "plt.show()"
   ]
  },
  {
   "cell_type": "markdown",
   "id": "c20d538a",
   "metadata": {},
   "source": [
    "<div class=\"alert alert-block alert-success\">\n",
    "<b>Result:</b></br>\n",
    "<blockquote>Gender does not affect number of appointment lead time and showing up at an appointment that much.</blockquote>\n",
    "</div>"
   ]
  },
  {
   "cell_type": "markdown",
   "id": "5e5a93a3",
   "metadata": {},
   "source": [
    "## Q4: Does the Bolsa affect the patient's attendance?"
   ]
  },
  {
   "cell_type": "code",
   "execution_count": 41,
   "id": "19b6fffe",
   "metadata": {
    "scrolled": true
   },
   "outputs": [
    {
     "data": {
      "image/png": "[encoded data removed]",
      "text/plain": [
       "<Figure size 432x288 with 1 Axes>"
      ]
     },
     "metadata": {},
     "output_type": "display_data"
    }
   ],
   "source": [
    "# plotting having a scholarship against age\n",
    "sns.boxplot(x = 'Bolsa', y = 'Age', data = df)\n",
    "plt.title('Bolsa V.S. Age')\n",
    "plt.show()"
   ]
  },
  {
   "cell_type": "code",
   "execution_count": 42,
   "id": "4e294d8f",
   "metadata": {
    "scrolled": true
   },
   "outputs": [
    {
     "data": {
      "image/png": "[encoded data removed]",
      "text/plain": [
       "<Figure size 432x288 with 1 Axes>"
      ]
     },
     "metadata": {},
     "output_type": "display_data"
    }
   ],
   "source": [
    "# plotting having a scholarship against no show with respect to gender\n",
    "sns.barplot(x = 'Bolsa', y = 'Absent', hue = 'Gender', data = df)\n",
    "plt.title('Bolsa V.S. Absent with respect to gender')\n",
    "plt.show()"
   ]
  },
  {
   "cell_type": "markdown",
   "id": "5218344f",
   "metadata": {},
   "source": [
    "<div class=\"alert alert-block alert-success\">\n",
    "<b>Result:</b></br>\n",
    "<blockquote>Lets dive deeper to see if this is related to gender. We can see that having a Bolsa does not affect showing up to a doctor appointment that much and that huge age group is enrolled to that Bolsa and also many are babies enrolled as well.</blockquote>\n",
    "</div>"
   ]
  },
  {
   "cell_type": "markdown",
   "id": "90c384c3",
   "metadata": {},
   "source": [
    "## Q5: Does having certain diseases affect attendance?"
   ]
  },
  {
   "cell_type": "code",
   "execution_count": 43,
   "id": "9d05922f",
   "metadata": {},
   "outputs": [
    {
     "data": {
      "image/png": "[encoded data removed]",
      "text/plain": [
       "<Figure size 1080x720 with 4 Axes>"
      ]
     },
     "metadata": {},
     "output_type": "display_data"
    }
   ],
   "source": [
    "# plotting deseases against no show\n",
    "plt.figure(figsize=(15,10))\n",
    "plt.subplot(2,2,1)\n",
    "sns.countplot(x = 'Hypertension', data = df, hue= 'Absent')\n",
    "plt.subplot(2,2,2)\n",
    "sns.countplot(x = 'Diabetes', data = df, hue= 'Absent')\n",
    "plt.subplot(2,2,3)\n",
    "sns.countplot(x = 'Alcoholism', data = df, hue= 'Absent')\n",
    "plt.subplot(2,2,4)\n",
    "sns.countplot(x = 'Handicap', data = df, hue= 'Absent')\n",
    "plt.show()"
   ]
  },
  {
   "cell_type": "code",
   "execution_count": 44,
   "id": "7a4a20e6",
   "metadata": {},
   "outputs": [
    {
     "data": {
      "image/png": "[encoded data removed]",
      "text/plain": [
       "<Figure size 1080x720 with 4 Axes>"
      ]
     },
     "metadata": {},
     "output_type": "display_data"
    }
   ],
   "source": [
    "# plotting deseases against no show with respect to age\n",
    "plt.figure(figsize=(15,10))\n",
    "plt.subplot(2,2,1)\n",
    "sns.barplot(x = 'Hypertension', y = 'Age', data = df, hue= 'Absent')\n",
    "plt.subplot(2,2,2)\n",
    "sns.barplot(x = 'Diabetes', y = 'Age', data = df, hue= 'Absent')\n",
    "plt.subplot(2,2,3)\n",
    "sns.barplot(x = 'Alcoholism', y = 'Age', data = df, hue= 'Absent')\n",
    "plt.subplot(2,2,4)\n",
    "sns.barplot(x = 'Handicap', y = 'Age', data = df, hue= 'Absent')\n",
    "plt.show()"
   ]
  },
  {
   "cell_type": "markdown",
   "id": "1d8d360e",
   "metadata": {},
   "source": [
    "<div class=\"alert alert-block alert-success\">\n",
    "<b>Result:</b></br>\n",
    "<blockquote>From above graphs, we can conclude that the vast majority of the dataset does not have chronic deseases. But, they are still existed in many young people. Having a chronic deseas may affect people showing up at a appointment.</blockquote>\n",
    "</div>"
   ]
  },
  {
   "cell_type": "markdown",
   "id": "cfb01c02",
   "metadata": {},
   "source": [
    "## Q6: What day of week do patients attend and skip the most?"
   ]
  },
  {
   "cell_type": "code",
   "execution_count": 45,
   "id": "b563675d",
   "metadata": {},
   "outputs": [
    {
     "data": {
      "image/png": "[encoded data removed]",
      "text/plain": [
       "<Figure size 432x288 with 1 Axes>"
      ]
     },
     "metadata": {},
     "output_type": "display_data"
    }
   ],
   "source": [
    "# Ploot the average no shows for each day of the week.\n",
    "ax = sns.barplot(x=df.Day_of_week, y=df.Absent)\n",
    "ax.set(ylabel='% No Shows')\n",
    "plt.show()"
   ]
  },
  {
   "cell_type": "markdown",
   "id": "94872cce",
   "metadata": {},
   "source": [
    "<div class=\"alert alert-block alert-success\">\n",
    "<b>Result:</b></br>\n",
    "<blockquote>There appear to be higher incidences of no shows on Saturdays and Fridays. The error bar is also highest for Saturdays due to the extremely low incidence of Saturday appointments.</blockquote>\n",
    "</div>"
   ]
  },
  {
   "cell_type": "code",
   "execution_count": 46,
   "id": "133f4bce",
   "metadata": {},
   "outputs": [
    {
     "data": {
      "text/plain": [
       "0    4689\n",
       "1    5150\n",
       "2    5092\n",
       "3    3337\n",
       "4    4037\n",
       "5       9\n",
       "Name: AppointmentDay, dtype: int64"
      ]
     },
     "execution_count": 46,
     "metadata": {},
     "output_type": "execute_result"
    }
   ],
   "source": [
    "# first I need to create a new dataset with patients who attended an appointment by day of the week\n",
    "absent = df.query('Absent == True').AppointmentDay.dt.day_of_week.value_counts()\n",
    "absent.sort_index(inplace=True)\n",
    "absent"
   ]
  },
  {
   "cell_type": "code",
   "execution_count": 47,
   "id": "89e64d88",
   "metadata": {
    "scrolled": true
   },
   "outputs": [
    {
     "data": {
      "image/png": "[encoded data removed]",
      "text/plain": [
       "<Figure size 360x360 with 1 Axes>"
      ]
     },
     "metadata": {},
     "output_type": "display_data"
    }
   ],
   "source": [
    "# plotting the findings\n",
    "absent.plot.bar(figsize=(5,5), color=('blue', 'orange', 'green', 'red', 'purple', 'brown'))\n",
    "plt.ylim(top=6000)\n",
    "plt.title(\"Absent Appointments by Weekdays\", {'fontsize' : 20})\n",
    "plt.xlabel(\"Days of the Week\")\n",
    "plt.ylabel(\"Amount of Appointments\")\n",
    "plt.xticks(np.arange(6), ('Monday', 'Tuesday', 'Wednesday', 'Thursday', 'Friday', 'Saturday'), rotation=0);  "
   ]
  },
  {
   "cell_type": "markdown",
   "id": "cf01ced8",
   "metadata": {},
   "source": [
    "<div class=\"alert alert-block alert-success\">\n",
    "<b>Result:</b></br>\n",
    "<blockquote>This graph follows the same trend as the attended appointments bar chart. Obvisously, Wednesday was the highest for attended appointments. Tuesday is the highest day to be absent at 5150. Saturday is the lowest at 9 appointments.</blockquote>\n",
    "</div>"
   ]
  },
  {
   "cell_type": "code",
   "execution_count": 48,
   "id": "b680a026",
   "metadata": {},
   "outputs": [
    {
     "data": {
      "text/plain": [
       "0    21.013713\n",
       "1    23.079681\n",
       "2    22.819754\n",
       "3    14.954737\n",
       "4    18.091781\n",
       "5     0.040333\n",
       "Name: AppointmentDay, dtype: float64"
      ]
     },
     "execution_count": 48,
     "metadata": {},
     "output_type": "execute_result"
    }
   ],
   "source": [
    "# percentage of absents\n",
    "absent = absent / sum(absent) * 100\n",
    "absent"
   ]
  },
  {
   "cell_type": "code",
   "execution_count": 49,
   "id": "2dfaccab",
   "metadata": {},
   "outputs": [
    {
     "data": {
      "image/png": "[encoded data removed]",
      "text/plain": [
       "<Figure size 720x576 with 1 Axes>"
      ]
     },
     "metadata": {},
     "output_type": "display_data"
    }
   ],
   "source": [
    "# plotting pie chart\n",
    "names=['Monday', 'Tuesday', 'Wednesday', 'Thursday', 'Friday', 'Saturday']\n",
    "explode = (0.05,0.05,0.05,0.05,0.05,0.05)\n",
    "colors = ('blue', 'orange', 'green', 'red', 'purple', 'brown')\n",
    "absent.plot(kind='pie', autopct='%1.1f%%', explode=explode, labels=names,colors=colors,figsize=(10,8), fontsize=15)\n",
    "plt.title(\"Percentage of Absent Appointments by Weekday\", {'fontsize' : 20})\n",
    "plt.ylabel(\"\");"
   ]
  },
  {
   "cell_type": "markdown",
   "id": "0f72ecaa",
   "metadata": {},
   "source": [
    "\n",
    "<div class=\"alert alert-block alert-success\">\n",
    "<b>Result:</b></br>\n",
    "<blockquote>From the previous pie chart, Tuesday has the highest absent record for appointments at 23.1% and closely followed by Wednesday at 22.8%. Saturday's proportion is so little that it does not show up, but makes up about.04% of absent appointments. Thursday is still the second lowest at 15.0%.</blockquote>\n",
    "</div>"
   ]
  },
  {
   "cell_type": "markdown",
   "id": "5d869b10",
   "metadata": {},
   "source": [
    "## Conclusion¶\n",
    "<a id='Conclusion'></a>\n",
    "\n",
    "### Q1:  Do a patient's age and gender have a relationship with attendance for their appointment? What are the age groups affected by this?\n",
    "There are total 79.8% of the patients did show up on their appointments and only 20.1% of them did not. We tried to figure out if there was any relation between gender and age and absent. We started the analysis by comparing the proportion of men and women in the dataset, and we found that Female is the greater proportion comparing to men, that means women take more care of their health in comparison to men. We provided more analysis to see if there is a relation between gender and age and absent the results shows thar there is no relation betwen the two variables.\n",
    "\n",
    "### Q2: Does receiving a message affect the patient's attendance?\n",
    "The relationship between SMS and absent was contrary to what was expected. There 67.8% of the patients did not reciee any SMS reminder of their appointments, but they still showed up on their appointments. \n",
    "\n",
    "### Q3: Does the appointment lead time affect the patient's attendance?\n",
    "There is a positive correlation between appointment lead time and whether a patient absent. Also, patient with appointments from 0 to 30 days tend to show up more regularly, while patients with higher number of days tend to not show up. Gender does not affect that much.\n",
    "\n",
    "### Q4: Does the Bolsa affect the patient's attendance?\n",
    "Having a Bolsa does not affect showing up to a doctor appointment that much. Many people enrolled to that Bolsa including their babies as well.\n",
    "\n",
    "### Q5: Does having certain diseases affect attendance?\n",
    "Although the vast majority of the dataset does not have chronic diseases, they are existed in so many young people. Having a chronic disease may affect your showing up at a appointment.\n",
    "\n",
    "### Q6: What day of week do patients attend and skip the most?¶\n",
    "The day of week may be resulting people absent, since certain days of the week were linked to higher occurrences of absent. Wednesday is the most likely day for a patient to absent to an appointment. Saturday is the least likely day for a scheduled appointment. Thursday is the least likely weekday for a scheduled appointment."
   ]
  },
  {
   "cell_type": "markdown",
   "id": "68b8e4a4",
   "metadata": {},
   "source": [
    "## Further Research"
   ]
  },
  {
   "cell_type": "markdown",
   "id": "8b860c91",
   "metadata": {},
   "source": [
    "> 1. We can investigate neighbourhood data to see if the distance making influence with absent or not.\n",
    "> 2. We also can check if patients overbooking appointments which may cause lot of absent"
   ]
  },
  {
   "cell_type": "markdown",
   "id": "1bbc3a86",
   "metadata": {},
   "source": [
    "<button type=\"button\" style=\"font: bold 14px Arial\">[Back to Top](#Top)</button>"
   ]
  }
 ],
 "metadata": {
  "kernelspec": {
   "display_name": "Python 3 (ipykernel)",
   "language": "python",
   "name": "python3"
  },
  "language_info": {
   "codemirror_mode": {
    "name": "ipython",
    "version": 3
   },
   "file_extension": ".py",
   "mimetype": "text/x-python",
   "name": "python",
   "nbconvert_exporter": "python",
   "pygments_lexer": "ipython3",
   "version": "3.9.7"
  }
 },
 "nbformat": 4,
 "nbformat_minor": 5
}
